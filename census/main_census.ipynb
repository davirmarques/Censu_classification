{
 "cells": [
  {
   "cell_type": "code",
   "execution_count": 1,
   "id": "unable-values",
   "metadata": {},
   "outputs": [],
   "source": [
    "import pandas as pd\n",
    "import numpy as np\n",
    "from sklearn.preprocessing import StandardScaler\n",
    "from sklearn.model_selection import train_test_split\n",
    "from sklearn import preprocessing\n",
    "import pickle"
   ]
  },
  {
   "cell_type": "code",
   "execution_count": 2,
   "id": "pleasant-bruce",
   "metadata": {},
   "outputs": [],
   "source": [
    "df = pd.read_csv('census.csv')"
   ]
  },
  {
   "cell_type": "code",
   "execution_count": 3,
   "id": "developed-sterling",
   "metadata": {},
   "outputs": [
    {
     "data": {
      "text/html": [
       "<div>\n",
       "<style scoped>\n",
       "    .dataframe tbody tr th:only-of-type {\n",
       "        vertical-align: middle;\n",
       "    }\n",
       "\n",
       "    .dataframe tbody tr th {\n",
       "        vertical-align: top;\n",
       "    }\n",
       "\n",
       "    .dataframe thead th {\n",
       "        text-align: right;\n",
       "    }\n",
       "</style>\n",
       "<table border=\"1\" class=\"dataframe\">\n",
       "  <thead>\n",
       "    <tr style=\"text-align: right;\">\n",
       "      <th></th>\n",
       "      <th>age</th>\n",
       "      <th>workclass</th>\n",
       "      <th>final-weight</th>\n",
       "      <th>education</th>\n",
       "      <th>education-num</th>\n",
       "      <th>marital-status</th>\n",
       "      <th>occupation</th>\n",
       "      <th>relationship</th>\n",
       "      <th>race</th>\n",
       "      <th>sex</th>\n",
       "      <th>capital-gain</th>\n",
       "      <th>capital-loos</th>\n",
       "      <th>hour-per-week</th>\n",
       "      <th>native-country</th>\n",
       "      <th>income</th>\n",
       "    </tr>\n",
       "  </thead>\n",
       "  <tbody>\n",
       "    <tr>\n",
       "      <th>0</th>\n",
       "      <td>39</td>\n",
       "      <td>State-gov</td>\n",
       "      <td>77516</td>\n",
       "      <td>Bachelors</td>\n",
       "      <td>13</td>\n",
       "      <td>Never-married</td>\n",
       "      <td>Adm-clerical</td>\n",
       "      <td>Not-in-family</td>\n",
       "      <td>White</td>\n",
       "      <td>Male</td>\n",
       "      <td>2174</td>\n",
       "      <td>0</td>\n",
       "      <td>40</td>\n",
       "      <td>United-States</td>\n",
       "      <td>&lt;=50K</td>\n",
       "    </tr>\n",
       "    <tr>\n",
       "      <th>1</th>\n",
       "      <td>50</td>\n",
       "      <td>Self-emp-not-inc</td>\n",
       "      <td>83311</td>\n",
       "      <td>Bachelors</td>\n",
       "      <td>13</td>\n",
       "      <td>Married-civ-spouse</td>\n",
       "      <td>Exec-managerial</td>\n",
       "      <td>Husband</td>\n",
       "      <td>White</td>\n",
       "      <td>Male</td>\n",
       "      <td>0</td>\n",
       "      <td>0</td>\n",
       "      <td>13</td>\n",
       "      <td>United-States</td>\n",
       "      <td>&lt;=50K</td>\n",
       "    </tr>\n",
       "    <tr>\n",
       "      <th>2</th>\n",
       "      <td>38</td>\n",
       "      <td>Private</td>\n",
       "      <td>215646</td>\n",
       "      <td>HS-grad</td>\n",
       "      <td>9</td>\n",
       "      <td>Divorced</td>\n",
       "      <td>Handlers-cleaners</td>\n",
       "      <td>Not-in-family</td>\n",
       "      <td>White</td>\n",
       "      <td>Male</td>\n",
       "      <td>0</td>\n",
       "      <td>0</td>\n",
       "      <td>40</td>\n",
       "      <td>United-States</td>\n",
       "      <td>&lt;=50K</td>\n",
       "    </tr>\n",
       "    <tr>\n",
       "      <th>3</th>\n",
       "      <td>53</td>\n",
       "      <td>Private</td>\n",
       "      <td>234721</td>\n",
       "      <td>11th</td>\n",
       "      <td>7</td>\n",
       "      <td>Married-civ-spouse</td>\n",
       "      <td>Handlers-cleaners</td>\n",
       "      <td>Husband</td>\n",
       "      <td>Black</td>\n",
       "      <td>Male</td>\n",
       "      <td>0</td>\n",
       "      <td>0</td>\n",
       "      <td>40</td>\n",
       "      <td>United-States</td>\n",
       "      <td>&lt;=50K</td>\n",
       "    </tr>\n",
       "  </tbody>\n",
       "</table>\n",
       "</div>"
      ],
      "text/plain": [
       "   age         workclass  final-weight  education  education-num  \\\n",
       "0   39         State-gov         77516  Bachelors             13   \n",
       "1   50  Self-emp-not-inc         83311  Bachelors             13   \n",
       "2   38           Private        215646    HS-grad              9   \n",
       "3   53           Private        234721       11th              7   \n",
       "\n",
       "       marital-status         occupation   relationship   race   sex  \\\n",
       "0       Never-married       Adm-clerical  Not-in-family  White  Male   \n",
       "1  Married-civ-spouse    Exec-managerial        Husband  White  Male   \n",
       "2            Divorced  Handlers-cleaners  Not-in-family  White  Male   \n",
       "3  Married-civ-spouse  Handlers-cleaners        Husband  Black  Male   \n",
       "\n",
       "   capital-gain  capital-loos  hour-per-week native-country income  \n",
       "0          2174             0             40  United-States  <=50K  \n",
       "1             0             0             13  United-States  <=50K  \n",
       "2             0             0             40  United-States  <=50K  \n",
       "3             0             0             40  United-States  <=50K  "
      ]
     },
     "execution_count": 3,
     "metadata": {},
     "output_type": "execute_result"
    }
   ],
   "source": [
    "df.head(4)"
   ]
  },
  {
   "cell_type": "code",
   "execution_count": 4,
   "id": "hearing-lawyer",
   "metadata": {},
   "outputs": [
    {
     "data": {
      "text/plain": [
       "Index(['age', 'workclass', 'final-weight', 'education', 'education-num',\n",
       "       'marital-status', 'occupation', 'relationship', 'race', 'sex',\n",
       "       'capital-gain', 'capital-loos', 'hour-per-week', 'native-country',\n",
       "       'income'],\n",
       "      dtype='object')"
      ]
     },
     "execution_count": 4,
     "metadata": {},
     "output_type": "execute_result"
    }
   ],
   "source": [
    "df.columns"
   ]
  },
  {
   "cell_type": "code",
   "execution_count": 5,
   "id": "established-breach",
   "metadata": {},
   "outputs": [],
   "source": [
    "df.columns   = [    'age', 'workclass', 'final_weight', 'education', 'education_num',\n",
    "       'marital_status', 'occupation', 'relationship', 'race', 'sex',\n",
    "       'capital_gain', 'capital_loos', 'hour_per_week', 'native_country',\n",
    "       'income' ]"
   ]
  },
  {
   "cell_type": "code",
   "execution_count": 6,
   "id": "mighty-mortgage",
   "metadata": {},
   "outputs": [],
   "source": [
    "df_ = df.drop(['income', 'native_country', 'capital_gain', 'capital_loos'], axis = 1)"
   ]
  },
  {
   "cell_type": "code",
   "execution_count": 7,
   "id": "egyptian-delight",
   "metadata": {},
   "outputs": [],
   "source": [
    "df_target = df.drop(['age', 'workclass', 'final_weight', 'education', 'education_num',\n",
    "       'marital_status', 'occupation', 'relationship', 'race', 'sex',\n",
    "       'capital_gain', 'capital_loos', 'hour_per_week', 'native_country'], axis = 1)"
   ]
  },
  {
   "cell_type": "code",
   "execution_count": 8,
   "id": "growing-power",
   "metadata": {},
   "outputs": [
    {
     "data": {
      "text/plain": [
       "Index(['age', 'workclass', 'final_weight', 'education', 'education_num',\n",
       "       'marital_status', 'occupation', 'relationship', 'race', 'sex',\n",
       "       'hour_per_week'],\n",
       "      dtype='object')"
      ]
     },
     "execution_count": 8,
     "metadata": {},
     "output_type": "execute_result"
    }
   ],
   "source": [
    "df_.columns"
   ]
  },
  {
   "cell_type": "code",
   "execution_count": 9,
   "id": "extended-election",
   "metadata": {},
   "outputs": [
    {
     "data": {
      "text/plain": [
       "age               0\n",
       "workclass         0\n",
       "final_weight      0\n",
       "education         0\n",
       "education_num     0\n",
       "marital_status    0\n",
       "occupation        0\n",
       "relationship      0\n",
       "race              0\n",
       "sex               0\n",
       "hour_per_week     0\n",
       "dtype: int64"
      ]
     },
     "execution_count": 9,
     "metadata": {},
     "output_type": "execute_result"
    }
   ],
   "source": [
    "df_.isnull().sum()"
   ]
  },
  {
   "cell_type": "code",
   "execution_count": 10,
   "id": "premium-detective",
   "metadata": {},
   "outputs": [
    {
     "data": {
      "text/plain": [
       "(array([17, 18, 19, 20, 21, 22, 23, 24, 25, 26, 27, 28, 29, 30, 31, 32, 33,\n",
       "        34, 35, 36, 37, 38, 39, 40, 41, 42, 43, 44, 45, 46, 47, 48, 49, 50,\n",
       "        51, 52, 53, 54, 55, 56, 57, 58, 59, 60, 61, 62, 63, 64, 65, 66, 67,\n",
       "        68, 69, 70, 71, 72, 73, 74, 75, 76, 77, 78, 79, 80, 81, 82, 83, 84,\n",
       "        85, 86, 87, 88, 90]),\n",
       " array([395, 550, 712, 753, 720, 765, 877, 798, 841, 785, 835, 867, 813,\n",
       "        861, 888, 828, 875, 886, 876, 898, 858, 827, 816, 794, 808, 780,\n",
       "        770, 724, 734, 737, 708, 543, 577, 602, 595, 478, 464, 415, 419,\n",
       "        366, 358, 366, 355, 312, 300, 258, 230, 208, 178, 150, 151, 120,\n",
       "        108,  89,  72,  67,  64,  51,  45,  46,  29,  23,  22,  22,  20,\n",
       "         12,   6,  10,   3,   1,   1,   3,  43]))"
      ]
     },
     "execution_count": 10,
     "metadata": {},
     "output_type": "execute_result"
    }
   ],
   "source": [
    "np.unique(df_['age'],return_counts = True) #Minmax"
   ]
  },
  {
   "cell_type": "code",
   "execution_count": 11,
   "id": "environmental-korean",
   "metadata": {},
   "outputs": [
    {
     "data": {
      "text/plain": [
       "(array(['?', 'Federal-gov', 'Local-gov', 'Never-worked', 'Private',\n",
       "        'Self-emp-inc', 'Self-emp-not-inc', 'State-gov', 'Without-pay'],\n",
       "       dtype=object),\n",
       " array([ 1836,   960,  2093,     7, 22696,  1116,  2541,  1298,    14]))"
      ]
     },
     "execution_count": 11,
     "metadata": {},
     "output_type": "execute_result"
    }
   ],
   "source": [
    "np.unique(df_['workclass'],return_counts = True)"
   ]
  },
  {
   "cell_type": "code",
   "execution_count": 12,
   "id": "based-helen",
   "metadata": {},
   "outputs": [
    {
     "data": {
      "text/plain": [
       "(array([  12285,   13769,   14878, ..., 1366120, 1455435, 1484705]),\n",
       " array([1, 1, 1, ..., 1, 1, 1]))"
      ]
     },
     "execution_count": 12,
     "metadata": {},
     "output_type": "execute_result"
    }
   ],
   "source": [
    "np.unique(df_['final_weight'],return_counts = True)  #Minmax"
   ]
  },
  {
   "cell_type": "code",
   "execution_count": 13,
   "id": "decreased-adams",
   "metadata": {},
   "outputs": [
    {
     "data": {
      "text/plain": [
       "(array(['10th', '11th', '12th', '1st-4th', '5th-6th', '7th-8th', '9th',\n",
       "        'Assoc-acdm', 'Assoc-voc', 'Bachelors', 'Doctorate', 'HS-grad',\n",
       "        'Masters', 'Preschool', 'Prof-school', 'Some-college'],\n",
       "       dtype=object),\n",
       " array([  933,  1175,   433,   168,   333,   646,   514,  1067,  1382,\n",
       "         5355,   413, 10501,  1723,    51,   576,  7291]))"
      ]
     },
     "execution_count": 13,
     "metadata": {},
     "output_type": "execute_result"
    }
   ],
   "source": [
    "np.unique(df_['education'],return_counts = True)"
   ]
  },
  {
   "cell_type": "code",
   "execution_count": 14,
   "id": "wanted-pickup",
   "metadata": {},
   "outputs": [
    {
     "data": {
      "text/plain": [
       "(array([ 1,  2,  3,  4,  5,  6,  7,  8,  9, 10, 11, 12, 13, 14, 15, 16]),\n",
       " array([   51,   168,   333,   646,   514,   933,  1175,   433, 10501,\n",
       "         7291,  1382,  1067,  5355,  1723,   576,   413]))"
      ]
     },
     "execution_count": 14,
     "metadata": {},
     "output_type": "execute_result"
    }
   ],
   "source": [
    "np.unique(df_['education_num'],return_counts = True)"
   ]
  },
  {
   "cell_type": "code",
   "execution_count": 15,
   "id": "mounted-cooperative",
   "metadata": {},
   "outputs": [
    {
     "data": {
      "text/plain": [
       "(array(['Divorced', 'Married-AF-spouse', 'Married-civ-spouse',\n",
       "        'Married-spouse-absent', 'Never-married', 'Separated', 'Widowed'],\n",
       "       dtype=object),\n",
       " array([ 4443,    23, 14976,   418, 10683,  1025,   993]))"
      ]
     },
     "execution_count": 15,
     "metadata": {},
     "output_type": "execute_result"
    }
   ],
   "source": [
    "np.unique(df_['marital_status'],return_counts = True)  "
   ]
  },
  {
   "cell_type": "code",
   "execution_count": 16,
   "id": "popular-toronto",
   "metadata": {},
   "outputs": [
    {
     "data": {
      "text/plain": [
       "(array(['?', 'Adm-clerical', 'Armed-Forces', 'Craft-repair',\n",
       "        'Exec-managerial', 'Farming-fishing', 'Handlers-cleaners',\n",
       "        'Machine-op-inspct', 'Other-service', 'Priv-house-serv',\n",
       "        'Prof-specialty', 'Protective-serv', 'Sales', 'Tech-support',\n",
       "        'Transport-moving'], dtype=object),\n",
       " array([1843, 3770,    9, 4099, 4066,  994, 1370, 2002, 3295,  149, 4140,\n",
       "         649, 3650,  928, 1597]))"
      ]
     },
     "execution_count": 16,
     "metadata": {},
     "output_type": "execute_result"
    }
   ],
   "source": [
    "np.unique(df_['occupation'],return_counts = True)"
   ]
  },
  {
   "cell_type": "code",
   "execution_count": 17,
   "id": "infinite-vector",
   "metadata": {},
   "outputs": [
    {
     "data": {
      "text/plain": [
       "(array(['Husband', 'Not-in-family', 'Other-relative', 'Own-child',\n",
       "        'Unmarried', 'Wife'], dtype=object),\n",
       " array([13193,  8305,   981,  5068,  3446,  1568]))"
      ]
     },
     "execution_count": 17,
     "metadata": {},
     "output_type": "execute_result"
    }
   ],
   "source": [
    "np.unique(df_['relationship'],return_counts = True)"
   ]
  },
  {
   "cell_type": "code",
   "execution_count": 18,
   "id": "eastern-separate",
   "metadata": {},
   "outputs": [
    {
     "data": {
      "text/plain": [
       "(array(['Amer-Indian-Eskimo', 'Asian-Pac-Islander', 'Black', 'Other',\n",
       "        'White'], dtype=object),\n",
       " array([  311,  1039,  3124,   271, 27816]))"
      ]
     },
     "execution_count": 18,
     "metadata": {},
     "output_type": "execute_result"
    }
   ],
   "source": [
    "np.unique(df_['race'],return_counts = True)"
   ]
  },
  {
   "cell_type": "code",
   "execution_count": 19,
   "id": "roman-clone",
   "metadata": {},
   "outputs": [
    {
     "data": {
      "text/plain": [
       "(array(['Female', 'Male'], dtype=object), array([10771, 21790]))"
      ]
     },
     "execution_count": 19,
     "metadata": {},
     "output_type": "execute_result"
    }
   ],
   "source": [
    "np.unique(df_['sex'],return_counts = True)"
   ]
  },
  {
   "cell_type": "markdown",
   "id": "hollywood-proof",
   "metadata": {},
   "source": [
    "#Criando linhas Artificiais"
   ]
  },
  {
   "cell_type": "code",
   "execution_count": 20,
   "id": "fiscal-vocabulary",
   "metadata": {},
   "outputs": [
    {
     "data": {
      "text/plain": [
       "(array(['<=50K', '>50K'], dtype=object), array([24720,  7841]))"
      ]
     },
     "execution_count": 20,
     "metadata": {},
     "output_type": "execute_result"
    }
   ],
   "source": [
    "np.unique(df_target['income'], return_counts = True)"
   ]
  },
  {
   "cell_type": "code",
   "execution_count": 21,
   "id": "alien-isolation",
   "metadata": {},
   "outputs": [],
   "source": [
    "def tipo_target(line):\n",
    "    if line == '<=50K':\n",
    "        return '0'\n",
    "    elif line == '>50K':\n",
    "        return '1'"
   ]
  },
  {
   "cell_type": "code",
   "execution_count": 22,
   "id": "tested-enough",
   "metadata": {},
   "outputs": [],
   "source": [
    "df_target['target']   = df_target['income'].apply(lambda x: tipo_target(x))"
   ]
  },
  {
   "cell_type": "code",
   "execution_count": 109,
   "id": "utility-dakota",
   "metadata": {},
   "outputs": [
    {
     "data": {
      "text/html": [
       "<div>\n",
       "<style scoped>\n",
       "    .dataframe tbody tr th:only-of-type {\n",
       "        vertical-align: middle;\n",
       "    }\n",
       "\n",
       "    .dataframe tbody tr th {\n",
       "        vertical-align: top;\n",
       "    }\n",
       "\n",
       "    .dataframe thead th {\n",
       "        text-align: right;\n",
       "    }\n",
       "</style>\n",
       "<table border=\"1\" class=\"dataframe\">\n",
       "  <thead>\n",
       "    <tr style=\"text-align: right;\">\n",
       "      <th></th>\n",
       "      <th>target</th>\n",
       "    </tr>\n",
       "  </thead>\n",
       "  <tbody>\n",
       "    <tr>\n",
       "      <th>1683</th>\n",
       "      <td>0</td>\n",
       "    </tr>\n",
       "    <tr>\n",
       "      <th>20157</th>\n",
       "      <td>0</td>\n",
       "    </tr>\n",
       "    <tr>\n",
       "      <th>6111</th>\n",
       "      <td>1</td>\n",
       "    </tr>\n",
       "    <tr>\n",
       "      <th>32541</th>\n",
       "      <td>0</td>\n",
       "    </tr>\n",
       "  </tbody>\n",
       "</table>\n",
       "</div>"
      ],
      "text/plain": [
       "      target\n",
       "1683       0\n",
       "20157      0\n",
       "6111       1\n",
       "32541      0"
      ]
     },
     "execution_count": 109,
     "metadata": {},
     "output_type": "execute_result"
    }
   ],
   "source": [
    "df_target.sample(4)"
   ]
  },
  {
   "cell_type": "code",
   "execution_count": 24,
   "id": "greatest-master",
   "metadata": {},
   "outputs": [
    {
     "data": {
      "text/plain": [
       "Index(['income', 'target'], dtype='object')"
      ]
     },
     "execution_count": 24,
     "metadata": {},
     "output_type": "execute_result"
    }
   ],
   "source": [
    "df_target.columns"
   ]
  },
  {
   "cell_type": "code",
   "execution_count": 25,
   "id": "fifth-harassment",
   "metadata": {},
   "outputs": [],
   "source": [
    "df_target = df_target.drop(['income'], axis = True)"
   ]
  },
  {
   "cell_type": "code",
   "execution_count": 26,
   "id": "agricultural-mobility",
   "metadata": {},
   "outputs": [
    {
     "data": {
      "text/html": [
       "<div>\n",
       "<style scoped>\n",
       "    .dataframe tbody tr th:only-of-type {\n",
       "        vertical-align: middle;\n",
       "    }\n",
       "\n",
       "    .dataframe tbody tr th {\n",
       "        vertical-align: top;\n",
       "    }\n",
       "\n",
       "    .dataframe thead th {\n",
       "        text-align: right;\n",
       "    }\n",
       "</style>\n",
       "<table border=\"1\" class=\"dataframe\">\n",
       "  <thead>\n",
       "    <tr style=\"text-align: right;\">\n",
       "      <th></th>\n",
       "      <th>target</th>\n",
       "    </tr>\n",
       "  </thead>\n",
       "  <tbody>\n",
       "    <tr>\n",
       "      <th>2603</th>\n",
       "      <td>1</td>\n",
       "    </tr>\n",
       "    <tr>\n",
       "      <th>31607</th>\n",
       "      <td>0</td>\n",
       "    </tr>\n",
       "    <tr>\n",
       "      <th>5772</th>\n",
       "      <td>0</td>\n",
       "    </tr>\n",
       "    <tr>\n",
       "      <th>11218</th>\n",
       "      <td>0</td>\n",
       "    </tr>\n",
       "  </tbody>\n",
       "</table>\n",
       "</div>"
      ],
      "text/plain": [
       "      target\n",
       "2603       1\n",
       "31607      0\n",
       "5772       0\n",
       "11218      0"
      ]
     },
     "execution_count": 26,
     "metadata": {},
     "output_type": "execute_result"
    }
   ],
   "source": [
    "df_target.sample(4)"
   ]
  },
  {
   "cell_type": "code",
   "execution_count": 27,
   "id": "crazy-stephen",
   "metadata": {},
   "outputs": [
    {
     "data": {
      "text/plain": [
       "(array(['Female', 'Male'], dtype=object), array([10771, 21790]))"
      ]
     },
     "execution_count": 27,
     "metadata": {},
     "output_type": "execute_result"
    }
   ],
   "source": [
    "np.unique(df_['sex'], return_counts = True)"
   ]
  },
  {
   "cell_type": "code",
   "execution_count": 28,
   "id": "electrical-spectacular",
   "metadata": {},
   "outputs": [],
   "source": [
    "def tipo_Sex(line):\n",
    "    if line == 'Female':\n",
    "        return 'Female'\n",
    "    elif line == 'Male':\n",
    "        return 'Male'"
   ]
  },
  {
   "cell_type": "code",
   "execution_count": 29,
   "id": "material-edwards",
   "metadata": {},
   "outputs": [],
   "source": [
    "df_['sex_']   = df_['sex'].apply(lambda x: tipo_Sex(x))"
   ]
  },
  {
   "cell_type": "code",
   "execution_count": 30,
   "id": "curious-brain",
   "metadata": {},
   "outputs": [],
   "source": [
    "df_sex = pd.get_dummies(df['sex'], dummy_na=True)"
   ]
  },
  {
   "cell_type": "code",
   "execution_count": 31,
   "id": "listed-clothing",
   "metadata": {},
   "outputs": [
    {
     "data": {
      "text/html": [
       "<div>\n",
       "<style scoped>\n",
       "    .dataframe tbody tr th:only-of-type {\n",
       "        vertical-align: middle;\n",
       "    }\n",
       "\n",
       "    .dataframe tbody tr th {\n",
       "        vertical-align: top;\n",
       "    }\n",
       "\n",
       "    .dataframe thead th {\n",
       "        text-align: right;\n",
       "    }\n",
       "</style>\n",
       "<table border=\"1\" class=\"dataframe\">\n",
       "  <thead>\n",
       "    <tr style=\"text-align: right;\">\n",
       "      <th></th>\n",
       "      <th>Female</th>\n",
       "      <th>Male</th>\n",
       "      <th>NaN</th>\n",
       "    </tr>\n",
       "  </thead>\n",
       "  <tbody>\n",
       "    <tr>\n",
       "      <th>32435</th>\n",
       "      <td>0</td>\n",
       "      <td>1</td>\n",
       "      <td>0</td>\n",
       "    </tr>\n",
       "    <tr>\n",
       "      <th>21423</th>\n",
       "      <td>0</td>\n",
       "      <td>1</td>\n",
       "      <td>0</td>\n",
       "    </tr>\n",
       "    <tr>\n",
       "      <th>16268</th>\n",
       "      <td>0</td>\n",
       "      <td>1</td>\n",
       "      <td>0</td>\n",
       "    </tr>\n",
       "  </tbody>\n",
       "</table>\n",
       "</div>"
      ],
      "text/plain": [
       "       Female  Male  NaN\n",
       "32435       0     1    0\n",
       "21423       0     1    0\n",
       "16268       0     1    0"
      ]
     },
     "execution_count": 31,
     "metadata": {},
     "output_type": "execute_result"
    }
   ],
   "source": [
    "df_sex.sample(3)"
   ]
  },
  {
   "cell_type": "code",
   "execution_count": 33,
   "id": "partial-escape",
   "metadata": {},
   "outputs": [
    {
     "data": {
      "text/plain": [
       "Index(['Female', 'Male', nan], dtype='object')"
      ]
     },
     "execution_count": 33,
     "metadata": {},
     "output_type": "execute_result"
    }
   ],
   "source": [
    "df_sex.columns"
   ]
  },
  {
   "cell_type": "code",
   "execution_count": 34,
   "id": "necessary-belief",
   "metadata": {},
   "outputs": [],
   "source": [
    "df_sex.columns   = [ 'Female', 'Male', 'No_def_sex' ]"
   ]
  },
  {
   "cell_type": "code",
   "execution_count": 35,
   "id": "written-content",
   "metadata": {},
   "outputs": [],
   "source": [
    "df_sex = df_sex.drop(['No_def_sex'], axis = 1)"
   ]
  },
  {
   "cell_type": "code",
   "execution_count": 36,
   "id": "younger-sodium",
   "metadata": {},
   "outputs": [],
   "source": [
    "df_menu = df_"
   ]
  },
  {
   "cell_type": "code",
   "execution_count": 37,
   "id": "honey-bread",
   "metadata": {},
   "outputs": [],
   "source": [
    "df_menu = pd.concat([df_menu, df_sex ], axis=1, join=\"inner\")"
   ]
  },
  {
   "cell_type": "code",
   "execution_count": 38,
   "id": "tight-memorial",
   "metadata": {},
   "outputs": [
    {
     "data": {
      "text/html": [
       "<div>\n",
       "<style scoped>\n",
       "    .dataframe tbody tr th:only-of-type {\n",
       "        vertical-align: middle;\n",
       "    }\n",
       "\n",
       "    .dataframe tbody tr th {\n",
       "        vertical-align: top;\n",
       "    }\n",
       "\n",
       "    .dataframe thead th {\n",
       "        text-align: right;\n",
       "    }\n",
       "</style>\n",
       "<table border=\"1\" class=\"dataframe\">\n",
       "  <thead>\n",
       "    <tr style=\"text-align: right;\">\n",
       "      <th></th>\n",
       "      <th>age</th>\n",
       "      <th>workclass</th>\n",
       "      <th>final_weight</th>\n",
       "      <th>education</th>\n",
       "      <th>education_num</th>\n",
       "      <th>marital_status</th>\n",
       "      <th>occupation</th>\n",
       "      <th>relationship</th>\n",
       "      <th>race</th>\n",
       "      <th>sex</th>\n",
       "      <th>hour_per_week</th>\n",
       "      <th>sex_</th>\n",
       "      <th>Female</th>\n",
       "      <th>Male</th>\n",
       "    </tr>\n",
       "  </thead>\n",
       "  <tbody>\n",
       "    <tr>\n",
       "      <th>0</th>\n",
       "      <td>39</td>\n",
       "      <td>State-gov</td>\n",
       "      <td>77516</td>\n",
       "      <td>Bachelors</td>\n",
       "      <td>13</td>\n",
       "      <td>Never-married</td>\n",
       "      <td>Adm-clerical</td>\n",
       "      <td>Not-in-family</td>\n",
       "      <td>White</td>\n",
       "      <td>Male</td>\n",
       "      <td>40</td>\n",
       "      <td>Male</td>\n",
       "      <td>0</td>\n",
       "      <td>1</td>\n",
       "    </tr>\n",
       "    <tr>\n",
       "      <th>1</th>\n",
       "      <td>50</td>\n",
       "      <td>Self-emp-not-inc</td>\n",
       "      <td>83311</td>\n",
       "      <td>Bachelors</td>\n",
       "      <td>13</td>\n",
       "      <td>Married-civ-spouse</td>\n",
       "      <td>Exec-managerial</td>\n",
       "      <td>Husband</td>\n",
       "      <td>White</td>\n",
       "      <td>Male</td>\n",
       "      <td>13</td>\n",
       "      <td>Male</td>\n",
       "      <td>0</td>\n",
       "      <td>1</td>\n",
       "    </tr>\n",
       "    <tr>\n",
       "      <th>2</th>\n",
       "      <td>38</td>\n",
       "      <td>Private</td>\n",
       "      <td>215646</td>\n",
       "      <td>HS-grad</td>\n",
       "      <td>9</td>\n",
       "      <td>Divorced</td>\n",
       "      <td>Handlers-cleaners</td>\n",
       "      <td>Not-in-family</td>\n",
       "      <td>White</td>\n",
       "      <td>Male</td>\n",
       "      <td>40</td>\n",
       "      <td>Male</td>\n",
       "      <td>0</td>\n",
       "      <td>1</td>\n",
       "    </tr>\n",
       "    <tr>\n",
       "      <th>3</th>\n",
       "      <td>53</td>\n",
       "      <td>Private</td>\n",
       "      <td>234721</td>\n",
       "      <td>11th</td>\n",
       "      <td>7</td>\n",
       "      <td>Married-civ-spouse</td>\n",
       "      <td>Handlers-cleaners</td>\n",
       "      <td>Husband</td>\n",
       "      <td>Black</td>\n",
       "      <td>Male</td>\n",
       "      <td>40</td>\n",
       "      <td>Male</td>\n",
       "      <td>0</td>\n",
       "      <td>1</td>\n",
       "    </tr>\n",
       "  </tbody>\n",
       "</table>\n",
       "</div>"
      ],
      "text/plain": [
       "   age         workclass  final_weight  education  education_num  \\\n",
       "0   39         State-gov         77516  Bachelors             13   \n",
       "1   50  Self-emp-not-inc         83311  Bachelors             13   \n",
       "2   38           Private        215646    HS-grad              9   \n",
       "3   53           Private        234721       11th              7   \n",
       "\n",
       "       marital_status         occupation   relationship   race   sex  \\\n",
       "0       Never-married       Adm-clerical  Not-in-family  White  Male   \n",
       "1  Married-civ-spouse    Exec-managerial        Husband  White  Male   \n",
       "2            Divorced  Handlers-cleaners  Not-in-family  White  Male   \n",
       "3  Married-civ-spouse  Handlers-cleaners        Husband  Black  Male   \n",
       "\n",
       "   hour_per_week  sex_  Female  Male  \n",
       "0             40  Male       0     1  \n",
       "1             13  Male       0     1  \n",
       "2             40  Male       0     1  \n",
       "3             40  Male       0     1  "
      ]
     },
     "execution_count": 38,
     "metadata": {},
     "output_type": "execute_result"
    }
   ],
   "source": [
    "df_menu.head(4)"
   ]
  },
  {
   "cell_type": "code",
   "execution_count": 39,
   "id": "separate-today",
   "metadata": {},
   "outputs": [],
   "source": [
    "df_menu = df_menu.drop(['sex', 'sex_'], axis = 1)"
   ]
  },
  {
   "cell_type": "code",
   "execution_count": 40,
   "id": "annoying-inclusion",
   "metadata": {},
   "outputs": [
    {
     "data": {
      "text/plain": [
       "Index(['age', 'workclass', 'final_weight', 'education', 'education_num',\n",
       "       'marital_status', 'occupation', 'relationship', 'race', 'hour_per_week',\n",
       "       'Female', 'Male'],\n",
       "      dtype='object')"
      ]
     },
     "execution_count": 40,
     "metadata": {},
     "output_type": "execute_result"
    }
   ],
   "source": [
    "df_menu.columns"
   ]
  },
  {
   "cell_type": "code",
   "execution_count": 41,
   "id": "accessible-creation",
   "metadata": {},
   "outputs": [
    {
     "data": {
      "text/plain": [
       "(array(['?', 'Federal-gov', 'Local-gov', 'Never-worked', 'Private',\n",
       "        'Self-emp-inc', 'Self-emp-not-inc', 'State-gov', 'Without-pay'],\n",
       "       dtype=object),\n",
       " array([ 1836,   960,  2093,     7, 22696,  1116,  2541,  1298,    14]))"
      ]
     },
     "execution_count": 41,
     "metadata": {},
     "output_type": "execute_result"
    }
   ],
   "source": [
    "np.unique(df_['workclass'], return_counts = True)"
   ]
  },
  {
   "cell_type": "code",
   "execution_count": 42,
   "id": "three-being",
   "metadata": {},
   "outputs": [],
   "source": [
    "def tipo_Work(line):\n",
    "    if line == '?' :\n",
    "        return 'desempregado'\n",
    "    elif line == 'Federal-gov' :\n",
    "        return 'Federal-gov'\n",
    "    elif line == 'Local-gov' :\n",
    "        return 'Local-gov'\n",
    "    elif line == 'Never-worked' :\n",
    "        return 'Never-worked'\n",
    "    elif line == 'Private' :\n",
    "        return 'Private'\n",
    "    elif line == 'Self-emp-inc' :\n",
    "        return 'Self-emp-inc'\n",
    "    elif line == 'Self-emp-not-inc' :\n",
    "        return 'Self-emp-not-inc'\n",
    "    elif line == 'State-gov' :\n",
    "        return 'State-gov'\n",
    "    elif line == 'Without-pay' :\n",
    "        return 'Without-pay'\n",
    "    else :\n",
    "        return ''"
   ]
  },
  {
   "cell_type": "code",
   "execution_count": 43,
   "id": "resident-mediterranean",
   "metadata": {},
   "outputs": [],
   "source": [
    "df_['workclass_']   = df_['workclass'].apply(lambda x: tipo_Work(x))"
   ]
  },
  {
   "cell_type": "code",
   "execution_count": 44,
   "id": "institutional-abraham",
   "metadata": {},
   "outputs": [],
   "source": [
    "df_workclass = pd.get_dummies(df_['workclass_'], dummy_na=True)"
   ]
  },
  {
   "cell_type": "code",
   "execution_count": 45,
   "id": "requested-upset",
   "metadata": {},
   "outputs": [
    {
     "data": {
      "text/plain": [
       "Index([     'Federal-gov',        'Local-gov',     'Never-worked',\n",
       "                'Private',     'Self-emp-inc', 'Self-emp-not-inc',\n",
       "              'State-gov',      'Without-pay',     'desempregado',\n",
       "                      nan],\n",
       "      dtype='object')"
      ]
     },
     "execution_count": 45,
     "metadata": {},
     "output_type": "execute_result"
    }
   ],
   "source": [
    "df_workclass.columns"
   ]
  },
  {
   "cell_type": "code",
   "execution_count": 46,
   "id": "miniature-dining",
   "metadata": {},
   "outputs": [],
   "source": [
    "df_workclass.columns   = [ 'Federal_gov',        'Local_gov',     'Never_worked',\n",
    "                'Private',     'Self_emp_inc', 'Self_emp_not_inc',\n",
    "              'State_gov',      'Without_pay',     'desempregado', 'No_def_workclass' ]"
   ]
  },
  {
   "cell_type": "code",
   "execution_count": 47,
   "id": "chubby-composite",
   "metadata": {},
   "outputs": [],
   "source": [
    "df_workclass = df_workclass.drop(['No_def_workclass'], axis = 1)"
   ]
  },
  {
   "cell_type": "code",
   "execution_count": 48,
   "id": "available-peripheral",
   "metadata": {},
   "outputs": [],
   "source": [
    "df_menu = pd.concat([df_menu, df_workclass ], axis=1, join=\"inner\")"
   ]
  },
  {
   "cell_type": "code",
   "execution_count": 49,
   "id": "first-greene",
   "metadata": {},
   "outputs": [
    {
     "data": {
      "text/html": [
       "<div>\n",
       "<style scoped>\n",
       "    .dataframe tbody tr th:only-of-type {\n",
       "        vertical-align: middle;\n",
       "    }\n",
       "\n",
       "    .dataframe tbody tr th {\n",
       "        vertical-align: top;\n",
       "    }\n",
       "\n",
       "    .dataframe thead th {\n",
       "        text-align: right;\n",
       "    }\n",
       "</style>\n",
       "<table border=\"1\" class=\"dataframe\">\n",
       "  <thead>\n",
       "    <tr style=\"text-align: right;\">\n",
       "      <th></th>\n",
       "      <th>age</th>\n",
       "      <th>workclass</th>\n",
       "      <th>final_weight</th>\n",
       "      <th>education</th>\n",
       "      <th>education_num</th>\n",
       "      <th>marital_status</th>\n",
       "      <th>occupation</th>\n",
       "      <th>relationship</th>\n",
       "      <th>race</th>\n",
       "      <th>hour_per_week</th>\n",
       "      <th>...</th>\n",
       "      <th>Male</th>\n",
       "      <th>Federal-gov</th>\n",
       "      <th>Local-gov</th>\n",
       "      <th>Never-worked</th>\n",
       "      <th>Private</th>\n",
       "      <th>Self-emp-inc</th>\n",
       "      <th>Self-emp-not-inc</th>\n",
       "      <th>State-gov</th>\n",
       "      <th>Without-pay</th>\n",
       "      <th>desempregado</th>\n",
       "    </tr>\n",
       "  </thead>\n",
       "  <tbody>\n",
       "    <tr>\n",
       "      <th>0</th>\n",
       "      <td>39</td>\n",
       "      <td>State-gov</td>\n",
       "      <td>77516</td>\n",
       "      <td>Bachelors</td>\n",
       "      <td>13</td>\n",
       "      <td>Never-married</td>\n",
       "      <td>Adm-clerical</td>\n",
       "      <td>Not-in-family</td>\n",
       "      <td>White</td>\n",
       "      <td>40</td>\n",
       "      <td>...</td>\n",
       "      <td>1</td>\n",
       "      <td>0</td>\n",
       "      <td>0</td>\n",
       "      <td>0</td>\n",
       "      <td>0</td>\n",
       "      <td>0</td>\n",
       "      <td>0</td>\n",
       "      <td>1</td>\n",
       "      <td>0</td>\n",
       "      <td>0</td>\n",
       "    </tr>\n",
       "    <tr>\n",
       "      <th>1</th>\n",
       "      <td>50</td>\n",
       "      <td>Self-emp-not-inc</td>\n",
       "      <td>83311</td>\n",
       "      <td>Bachelors</td>\n",
       "      <td>13</td>\n",
       "      <td>Married-civ-spouse</td>\n",
       "      <td>Exec-managerial</td>\n",
       "      <td>Husband</td>\n",
       "      <td>White</td>\n",
       "      <td>13</td>\n",
       "      <td>...</td>\n",
       "      <td>1</td>\n",
       "      <td>0</td>\n",
       "      <td>0</td>\n",
       "      <td>0</td>\n",
       "      <td>0</td>\n",
       "      <td>0</td>\n",
       "      <td>1</td>\n",
       "      <td>0</td>\n",
       "      <td>0</td>\n",
       "      <td>0</td>\n",
       "    </tr>\n",
       "    <tr>\n",
       "      <th>2</th>\n",
       "      <td>38</td>\n",
       "      <td>Private</td>\n",
       "      <td>215646</td>\n",
       "      <td>HS-grad</td>\n",
       "      <td>9</td>\n",
       "      <td>Divorced</td>\n",
       "      <td>Handlers-cleaners</td>\n",
       "      <td>Not-in-family</td>\n",
       "      <td>White</td>\n",
       "      <td>40</td>\n",
       "      <td>...</td>\n",
       "      <td>1</td>\n",
       "      <td>0</td>\n",
       "      <td>0</td>\n",
       "      <td>0</td>\n",
       "      <td>1</td>\n",
       "      <td>0</td>\n",
       "      <td>0</td>\n",
       "      <td>0</td>\n",
       "      <td>0</td>\n",
       "      <td>0</td>\n",
       "    </tr>\n",
       "    <tr>\n",
       "      <th>3</th>\n",
       "      <td>53</td>\n",
       "      <td>Private</td>\n",
       "      <td>234721</td>\n",
       "      <td>11th</td>\n",
       "      <td>7</td>\n",
       "      <td>Married-civ-spouse</td>\n",
       "      <td>Handlers-cleaners</td>\n",
       "      <td>Husband</td>\n",
       "      <td>Black</td>\n",
       "      <td>40</td>\n",
       "      <td>...</td>\n",
       "      <td>1</td>\n",
       "      <td>0</td>\n",
       "      <td>0</td>\n",
       "      <td>0</td>\n",
       "      <td>1</td>\n",
       "      <td>0</td>\n",
       "      <td>0</td>\n",
       "      <td>0</td>\n",
       "      <td>0</td>\n",
       "      <td>0</td>\n",
       "    </tr>\n",
       "    <tr>\n",
       "      <th>4</th>\n",
       "      <td>28</td>\n",
       "      <td>Private</td>\n",
       "      <td>338409</td>\n",
       "      <td>Bachelors</td>\n",
       "      <td>13</td>\n",
       "      <td>Married-civ-spouse</td>\n",
       "      <td>Prof-specialty</td>\n",
       "      <td>Wife</td>\n",
       "      <td>Black</td>\n",
       "      <td>40</td>\n",
       "      <td>...</td>\n",
       "      <td>0</td>\n",
       "      <td>0</td>\n",
       "      <td>0</td>\n",
       "      <td>0</td>\n",
       "      <td>1</td>\n",
       "      <td>0</td>\n",
       "      <td>0</td>\n",
       "      <td>0</td>\n",
       "      <td>0</td>\n",
       "      <td>0</td>\n",
       "    </tr>\n",
       "    <tr>\n",
       "      <th>...</th>\n",
       "      <td>...</td>\n",
       "      <td>...</td>\n",
       "      <td>...</td>\n",
       "      <td>...</td>\n",
       "      <td>...</td>\n",
       "      <td>...</td>\n",
       "      <td>...</td>\n",
       "      <td>...</td>\n",
       "      <td>...</td>\n",
       "      <td>...</td>\n",
       "      <td>...</td>\n",
       "      <td>...</td>\n",
       "      <td>...</td>\n",
       "      <td>...</td>\n",
       "      <td>...</td>\n",
       "      <td>...</td>\n",
       "      <td>...</td>\n",
       "      <td>...</td>\n",
       "      <td>...</td>\n",
       "      <td>...</td>\n",
       "      <td>...</td>\n",
       "    </tr>\n",
       "    <tr>\n",
       "      <th>32556</th>\n",
       "      <td>27</td>\n",
       "      <td>Private</td>\n",
       "      <td>257302</td>\n",
       "      <td>Assoc-acdm</td>\n",
       "      <td>12</td>\n",
       "      <td>Married-civ-spouse</td>\n",
       "      <td>Tech-support</td>\n",
       "      <td>Wife</td>\n",
       "      <td>White</td>\n",
       "      <td>38</td>\n",
       "      <td>...</td>\n",
       "      <td>0</td>\n",
       "      <td>0</td>\n",
       "      <td>0</td>\n",
       "      <td>0</td>\n",
       "      <td>1</td>\n",
       "      <td>0</td>\n",
       "      <td>0</td>\n",
       "      <td>0</td>\n",
       "      <td>0</td>\n",
       "      <td>0</td>\n",
       "    </tr>\n",
       "    <tr>\n",
       "      <th>32557</th>\n",
       "      <td>40</td>\n",
       "      <td>Private</td>\n",
       "      <td>154374</td>\n",
       "      <td>HS-grad</td>\n",
       "      <td>9</td>\n",
       "      <td>Married-civ-spouse</td>\n",
       "      <td>Machine-op-inspct</td>\n",
       "      <td>Husband</td>\n",
       "      <td>White</td>\n",
       "      <td>40</td>\n",
       "      <td>...</td>\n",
       "      <td>1</td>\n",
       "      <td>0</td>\n",
       "      <td>0</td>\n",
       "      <td>0</td>\n",
       "      <td>1</td>\n",
       "      <td>0</td>\n",
       "      <td>0</td>\n",
       "      <td>0</td>\n",
       "      <td>0</td>\n",
       "      <td>0</td>\n",
       "    </tr>\n",
       "    <tr>\n",
       "      <th>32558</th>\n",
       "      <td>58</td>\n",
       "      <td>Private</td>\n",
       "      <td>151910</td>\n",
       "      <td>HS-grad</td>\n",
       "      <td>9</td>\n",
       "      <td>Widowed</td>\n",
       "      <td>Adm-clerical</td>\n",
       "      <td>Unmarried</td>\n",
       "      <td>White</td>\n",
       "      <td>40</td>\n",
       "      <td>...</td>\n",
       "      <td>0</td>\n",
       "      <td>0</td>\n",
       "      <td>0</td>\n",
       "      <td>0</td>\n",
       "      <td>1</td>\n",
       "      <td>0</td>\n",
       "      <td>0</td>\n",
       "      <td>0</td>\n",
       "      <td>0</td>\n",
       "      <td>0</td>\n",
       "    </tr>\n",
       "    <tr>\n",
       "      <th>32559</th>\n",
       "      <td>22</td>\n",
       "      <td>Private</td>\n",
       "      <td>201490</td>\n",
       "      <td>HS-grad</td>\n",
       "      <td>9</td>\n",
       "      <td>Never-married</td>\n",
       "      <td>Adm-clerical</td>\n",
       "      <td>Own-child</td>\n",
       "      <td>White</td>\n",
       "      <td>20</td>\n",
       "      <td>...</td>\n",
       "      <td>1</td>\n",
       "      <td>0</td>\n",
       "      <td>0</td>\n",
       "      <td>0</td>\n",
       "      <td>1</td>\n",
       "      <td>0</td>\n",
       "      <td>0</td>\n",
       "      <td>0</td>\n",
       "      <td>0</td>\n",
       "      <td>0</td>\n",
       "    </tr>\n",
       "    <tr>\n",
       "      <th>32560</th>\n",
       "      <td>52</td>\n",
       "      <td>Self-emp-inc</td>\n",
       "      <td>287927</td>\n",
       "      <td>HS-grad</td>\n",
       "      <td>9</td>\n",
       "      <td>Married-civ-spouse</td>\n",
       "      <td>Exec-managerial</td>\n",
       "      <td>Wife</td>\n",
       "      <td>White</td>\n",
       "      <td>40</td>\n",
       "      <td>...</td>\n",
       "      <td>0</td>\n",
       "      <td>0</td>\n",
       "      <td>0</td>\n",
       "      <td>0</td>\n",
       "      <td>0</td>\n",
       "      <td>1</td>\n",
       "      <td>0</td>\n",
       "      <td>0</td>\n",
       "      <td>0</td>\n",
       "      <td>0</td>\n",
       "    </tr>\n",
       "  </tbody>\n",
       "</table>\n",
       "<p>32561 rows × 21 columns</p>\n",
       "</div>"
      ],
      "text/plain": [
       "       age         workclass  final_weight   education  education_num  \\\n",
       "0       39         State-gov         77516   Bachelors             13   \n",
       "1       50  Self-emp-not-inc         83311   Bachelors             13   \n",
       "2       38           Private        215646     HS-grad              9   \n",
       "3       53           Private        234721        11th              7   \n",
       "4       28           Private        338409   Bachelors             13   \n",
       "...    ...               ...           ...         ...            ...   \n",
       "32556   27           Private        257302  Assoc-acdm             12   \n",
       "32557   40           Private        154374     HS-grad              9   \n",
       "32558   58           Private        151910     HS-grad              9   \n",
       "32559   22           Private        201490     HS-grad              9   \n",
       "32560   52      Self-emp-inc        287927     HS-grad              9   \n",
       "\n",
       "           marital_status         occupation   relationship   race  \\\n",
       "0           Never-married       Adm-clerical  Not-in-family  White   \n",
       "1      Married-civ-spouse    Exec-managerial        Husband  White   \n",
       "2                Divorced  Handlers-cleaners  Not-in-family  White   \n",
       "3      Married-civ-spouse  Handlers-cleaners        Husband  Black   \n",
       "4      Married-civ-spouse     Prof-specialty           Wife  Black   \n",
       "...                   ...                ...            ...    ...   \n",
       "32556  Married-civ-spouse       Tech-support           Wife  White   \n",
       "32557  Married-civ-spouse  Machine-op-inspct        Husband  White   \n",
       "32558             Widowed       Adm-clerical      Unmarried  White   \n",
       "32559       Never-married       Adm-clerical      Own-child  White   \n",
       "32560  Married-civ-spouse    Exec-managerial           Wife  White   \n",
       "\n",
       "       hour_per_week  ...  Male  Federal-gov  Local-gov  Never-worked  \\\n",
       "0                 40  ...     1            0          0             0   \n",
       "1                 13  ...     1            0          0             0   \n",
       "2                 40  ...     1            0          0             0   \n",
       "3                 40  ...     1            0          0             0   \n",
       "4                 40  ...     0            0          0             0   \n",
       "...              ...  ...   ...          ...        ...           ...   \n",
       "32556             38  ...     0            0          0             0   \n",
       "32557             40  ...     1            0          0             0   \n",
       "32558             40  ...     0            0          0             0   \n",
       "32559             20  ...     1            0          0             0   \n",
       "32560             40  ...     0            0          0             0   \n",
       "\n",
       "       Private  Self-emp-inc  Self-emp-not-inc  State-gov  Without-pay  \\\n",
       "0            0             0                 0          1            0   \n",
       "1            0             0                 1          0            0   \n",
       "2            1             0                 0          0            0   \n",
       "3            1             0                 0          0            0   \n",
       "4            1             0                 0          0            0   \n",
       "...        ...           ...               ...        ...          ...   \n",
       "32556        1             0                 0          0            0   \n",
       "32557        1             0                 0          0            0   \n",
       "32558        1             0                 0          0            0   \n",
       "32559        1             0                 0          0            0   \n",
       "32560        0             1                 0          0            0   \n",
       "\n",
       "       desempregado  \n",
       "0                 0  \n",
       "1                 0  \n",
       "2                 0  \n",
       "3                 0  \n",
       "4                 0  \n",
       "...             ...  \n",
       "32556             0  \n",
       "32557             0  \n",
       "32558             0  \n",
       "32559             0  \n",
       "32560             0  \n",
       "\n",
       "[32561 rows x 21 columns]"
      ]
     },
     "execution_count": 49,
     "metadata": {},
     "output_type": "execute_result"
    }
   ],
   "source": [
    "df_menu"
   ]
  },
  {
   "cell_type": "code",
   "execution_count": 50,
   "id": "innocent-guinea",
   "metadata": {},
   "outputs": [
    {
     "data": {
      "text/plain": [
       "Index(['age', 'workclass', 'final_weight', 'education', 'education_num',\n",
       "       'marital_status', 'occupation', 'relationship', 'race', 'sex',\n",
       "       'hour_per_week', 'sex_', 'workclass_'],\n",
       "      dtype='object')"
      ]
     },
     "execution_count": 50,
     "metadata": {},
     "output_type": "execute_result"
    }
   ],
   "source": [
    "df_.columns"
   ]
  },
  {
   "cell_type": "code",
   "execution_count": 51,
   "id": "special-twist",
   "metadata": {},
   "outputs": [
    {
     "data": {
      "text/plain": [
       "(array(['10th', '11th', '12th', '1st-4th', '5th-6th', '7th-8th', '9th',\n",
       "        'Assoc-acdm', 'Assoc-voc', 'Bachelors', 'Doctorate', 'HS-grad',\n",
       "        'Masters', 'Preschool', 'Prof-school', 'Some-college'],\n",
       "       dtype=object),\n",
       " array([  933,  1175,   433,   168,   333,   646,   514,  1067,  1382,\n",
       "         5355,   413, 10501,  1723,    51,   576,  7291]))"
      ]
     },
     "execution_count": 51,
     "metadata": {},
     "output_type": "execute_result"
    }
   ],
   "source": [
    "np.unique(df_['education'], return_counts = True)"
   ]
  },
  {
   "cell_type": "code",
   "execution_count": 52,
   "id": "painted-charm",
   "metadata": {},
   "outputs": [],
   "source": [
    "def tipo_education(line):\n",
    "    if line == '10th' :\n",
    "        return '10th'\n",
    "    elif line == '11th' :\n",
    "        return '11th'\n",
    "    elif line == '12th' :\n",
    "        return '12th'\n",
    "    elif line == '1st-4th' :\n",
    "        return '1st-4th'\n",
    "    elif line == '5th-6th' :\n",
    "        return '5th-6th'\n",
    "    elif line == '7th-8th' :\n",
    "        return '7th-8th'\n",
    "    elif line == '9th' :\n",
    "        return '9th'\n",
    "    elif line == 'Assoc-acdm' :\n",
    "        return 'Assoc-acdm'\n",
    "    elif line == 'Assoc-voc' :\n",
    "        return 'Assoc-voc'\n",
    "    elif line == 'Bachelors' :\n",
    "        return 'Bachelors'\n",
    "    elif line == 'Doctorate' :\n",
    "        return 'Doctorate'\n",
    "    elif line == 'HS-grad' :\n",
    "        return 'HS-grad'\n",
    "    elif line == 'Masters' :\n",
    "        return 'Masters'\n",
    "    elif line == 'Preschool' :\n",
    "        return 'Preschool'\n",
    "    elif line == 'Prof-school' :\n",
    "        return 'Prof-school'\n",
    "    elif line == 'Some-college' :\n",
    "        return 'Some-college'"
   ]
  },
  {
   "cell_type": "code",
   "execution_count": 53,
   "id": "virgin-cooking",
   "metadata": {},
   "outputs": [],
   "source": [
    "df_['education_']   = df_['education'].apply(lambda x: tipo_education(x))\n",
    "df_workclass = pd.get_dummies(df_['education_'], dummy_na=True)"
   ]
  },
  {
   "cell_type": "code",
   "execution_count": 54,
   "id": "distinct-sussex",
   "metadata": {},
   "outputs": [
    {
     "data": {
      "text/plain": [
       "Index([        '10th',         '11th',         '12th',      '1st-4th',\n",
       "            '5th-6th',      '7th-8th',          '9th',   'Assoc-acdm',\n",
       "          'Assoc-voc',    'Bachelors',    'Doctorate',      'HS-grad',\n",
       "            'Masters',    'Preschool',  'Prof-school', 'Some-college',\n",
       "                  nan],\n",
       "      dtype='object')"
      ]
     },
     "execution_count": 54,
     "metadata": {},
     "output_type": "execute_result"
    }
   ],
   "source": [
    "df_workclass.columns"
   ]
  },
  {
   "cell_type": "code",
   "execution_count": 55,
   "id": "acceptable-tribe",
   "metadata": {},
   "outputs": [],
   "source": [
    "df_workclass.columns   = [  '10th',         '11th',         '12th',      '1st_4th',\n",
    "            '5th_6th',      '7th_8th',          '9th',   'Assoc_acdm',\n",
    "          'Assoc_voc',    'Bachelors',    'Doctorate',      'HS_grad',\n",
    "            'Masters',    'Preschool',  'Prof_school', 'Some_college','No_def_education' ]\n"
   ]
  },
  {
   "cell_type": "code",
   "execution_count": 56,
   "id": "automated-installation",
   "metadata": {},
   "outputs": [],
   "source": [
    "df_workclass = df_workclass.drop(['No_def_education'], axis = 1)\n",
    "df_menu = pd.concat([df_menu, df_workclass ], axis=1, join=\"inner\")"
   ]
  },
  {
   "cell_type": "code",
   "execution_count": 57,
   "id": "several-child",
   "metadata": {},
   "outputs": [
    {
     "data": {
      "text/html": [
       "<div>\n",
       "<style scoped>\n",
       "    .dataframe tbody tr th:only-of-type {\n",
       "        vertical-align: middle;\n",
       "    }\n",
       "\n",
       "    .dataframe tbody tr th {\n",
       "        vertical-align: top;\n",
       "    }\n",
       "\n",
       "    .dataframe thead th {\n",
       "        text-align: right;\n",
       "    }\n",
       "</style>\n",
       "<table border=\"1\" class=\"dataframe\">\n",
       "  <thead>\n",
       "    <tr style=\"text-align: right;\">\n",
       "      <th></th>\n",
       "      <th>age</th>\n",
       "      <th>workclass</th>\n",
       "      <th>final_weight</th>\n",
       "      <th>education</th>\n",
       "      <th>education_num</th>\n",
       "      <th>marital_status</th>\n",
       "      <th>occupation</th>\n",
       "      <th>relationship</th>\n",
       "      <th>race</th>\n",
       "      <th>hour_per_week</th>\n",
       "      <th>...</th>\n",
       "      <th>9th</th>\n",
       "      <th>Assoc-acdm</th>\n",
       "      <th>Assoc-voc</th>\n",
       "      <th>Bachelors</th>\n",
       "      <th>Doctorate</th>\n",
       "      <th>HS-grad</th>\n",
       "      <th>Masters</th>\n",
       "      <th>Preschool</th>\n",
       "      <th>Prof-school</th>\n",
       "      <th>Some-college</th>\n",
       "    </tr>\n",
       "  </thead>\n",
       "  <tbody>\n",
       "    <tr>\n",
       "      <th>0</th>\n",
       "      <td>39</td>\n",
       "      <td>State-gov</td>\n",
       "      <td>77516</td>\n",
       "      <td>Bachelors</td>\n",
       "      <td>13</td>\n",
       "      <td>Never-married</td>\n",
       "      <td>Adm-clerical</td>\n",
       "      <td>Not-in-family</td>\n",
       "      <td>White</td>\n",
       "      <td>40</td>\n",
       "      <td>...</td>\n",
       "      <td>0</td>\n",
       "      <td>0</td>\n",
       "      <td>0</td>\n",
       "      <td>1</td>\n",
       "      <td>0</td>\n",
       "      <td>0</td>\n",
       "      <td>0</td>\n",
       "      <td>0</td>\n",
       "      <td>0</td>\n",
       "      <td>0</td>\n",
       "    </tr>\n",
       "    <tr>\n",
       "      <th>1</th>\n",
       "      <td>50</td>\n",
       "      <td>Self-emp-not-inc</td>\n",
       "      <td>83311</td>\n",
       "      <td>Bachelors</td>\n",
       "      <td>13</td>\n",
       "      <td>Married-civ-spouse</td>\n",
       "      <td>Exec-managerial</td>\n",
       "      <td>Husband</td>\n",
       "      <td>White</td>\n",
       "      <td>13</td>\n",
       "      <td>...</td>\n",
       "      <td>0</td>\n",
       "      <td>0</td>\n",
       "      <td>0</td>\n",
       "      <td>1</td>\n",
       "      <td>0</td>\n",
       "      <td>0</td>\n",
       "      <td>0</td>\n",
       "      <td>0</td>\n",
       "      <td>0</td>\n",
       "      <td>0</td>\n",
       "    </tr>\n",
       "    <tr>\n",
       "      <th>2</th>\n",
       "      <td>38</td>\n",
       "      <td>Private</td>\n",
       "      <td>215646</td>\n",
       "      <td>HS-grad</td>\n",
       "      <td>9</td>\n",
       "      <td>Divorced</td>\n",
       "      <td>Handlers-cleaners</td>\n",
       "      <td>Not-in-family</td>\n",
       "      <td>White</td>\n",
       "      <td>40</td>\n",
       "      <td>...</td>\n",
       "      <td>0</td>\n",
       "      <td>0</td>\n",
       "      <td>0</td>\n",
       "      <td>0</td>\n",
       "      <td>0</td>\n",
       "      <td>1</td>\n",
       "      <td>0</td>\n",
       "      <td>0</td>\n",
       "      <td>0</td>\n",
       "      <td>0</td>\n",
       "    </tr>\n",
       "    <tr>\n",
       "      <th>3</th>\n",
       "      <td>53</td>\n",
       "      <td>Private</td>\n",
       "      <td>234721</td>\n",
       "      <td>11th</td>\n",
       "      <td>7</td>\n",
       "      <td>Married-civ-spouse</td>\n",
       "      <td>Handlers-cleaners</td>\n",
       "      <td>Husband</td>\n",
       "      <td>Black</td>\n",
       "      <td>40</td>\n",
       "      <td>...</td>\n",
       "      <td>0</td>\n",
       "      <td>0</td>\n",
       "      <td>0</td>\n",
       "      <td>0</td>\n",
       "      <td>0</td>\n",
       "      <td>0</td>\n",
       "      <td>0</td>\n",
       "      <td>0</td>\n",
       "      <td>0</td>\n",
       "      <td>0</td>\n",
       "    </tr>\n",
       "    <tr>\n",
       "      <th>4</th>\n",
       "      <td>28</td>\n",
       "      <td>Private</td>\n",
       "      <td>338409</td>\n",
       "      <td>Bachelors</td>\n",
       "      <td>13</td>\n",
       "      <td>Married-civ-spouse</td>\n",
       "      <td>Prof-specialty</td>\n",
       "      <td>Wife</td>\n",
       "      <td>Black</td>\n",
       "      <td>40</td>\n",
       "      <td>...</td>\n",
       "      <td>0</td>\n",
       "      <td>0</td>\n",
       "      <td>0</td>\n",
       "      <td>1</td>\n",
       "      <td>0</td>\n",
       "      <td>0</td>\n",
       "      <td>0</td>\n",
       "      <td>0</td>\n",
       "      <td>0</td>\n",
       "      <td>0</td>\n",
       "    </tr>\n",
       "    <tr>\n",
       "      <th>...</th>\n",
       "      <td>...</td>\n",
       "      <td>...</td>\n",
       "      <td>...</td>\n",
       "      <td>...</td>\n",
       "      <td>...</td>\n",
       "      <td>...</td>\n",
       "      <td>...</td>\n",
       "      <td>...</td>\n",
       "      <td>...</td>\n",
       "      <td>...</td>\n",
       "      <td>...</td>\n",
       "      <td>...</td>\n",
       "      <td>...</td>\n",
       "      <td>...</td>\n",
       "      <td>...</td>\n",
       "      <td>...</td>\n",
       "      <td>...</td>\n",
       "      <td>...</td>\n",
       "      <td>...</td>\n",
       "      <td>...</td>\n",
       "      <td>...</td>\n",
       "    </tr>\n",
       "    <tr>\n",
       "      <th>32556</th>\n",
       "      <td>27</td>\n",
       "      <td>Private</td>\n",
       "      <td>257302</td>\n",
       "      <td>Assoc-acdm</td>\n",
       "      <td>12</td>\n",
       "      <td>Married-civ-spouse</td>\n",
       "      <td>Tech-support</td>\n",
       "      <td>Wife</td>\n",
       "      <td>White</td>\n",
       "      <td>38</td>\n",
       "      <td>...</td>\n",
       "      <td>0</td>\n",
       "      <td>1</td>\n",
       "      <td>0</td>\n",
       "      <td>0</td>\n",
       "      <td>0</td>\n",
       "      <td>0</td>\n",
       "      <td>0</td>\n",
       "      <td>0</td>\n",
       "      <td>0</td>\n",
       "      <td>0</td>\n",
       "    </tr>\n",
       "    <tr>\n",
       "      <th>32557</th>\n",
       "      <td>40</td>\n",
       "      <td>Private</td>\n",
       "      <td>154374</td>\n",
       "      <td>HS-grad</td>\n",
       "      <td>9</td>\n",
       "      <td>Married-civ-spouse</td>\n",
       "      <td>Machine-op-inspct</td>\n",
       "      <td>Husband</td>\n",
       "      <td>White</td>\n",
       "      <td>40</td>\n",
       "      <td>...</td>\n",
       "      <td>0</td>\n",
       "      <td>0</td>\n",
       "      <td>0</td>\n",
       "      <td>0</td>\n",
       "      <td>0</td>\n",
       "      <td>1</td>\n",
       "      <td>0</td>\n",
       "      <td>0</td>\n",
       "      <td>0</td>\n",
       "      <td>0</td>\n",
       "    </tr>\n",
       "    <tr>\n",
       "      <th>32558</th>\n",
       "      <td>58</td>\n",
       "      <td>Private</td>\n",
       "      <td>151910</td>\n",
       "      <td>HS-grad</td>\n",
       "      <td>9</td>\n",
       "      <td>Widowed</td>\n",
       "      <td>Adm-clerical</td>\n",
       "      <td>Unmarried</td>\n",
       "      <td>White</td>\n",
       "      <td>40</td>\n",
       "      <td>...</td>\n",
       "      <td>0</td>\n",
       "      <td>0</td>\n",
       "      <td>0</td>\n",
       "      <td>0</td>\n",
       "      <td>0</td>\n",
       "      <td>1</td>\n",
       "      <td>0</td>\n",
       "      <td>0</td>\n",
       "      <td>0</td>\n",
       "      <td>0</td>\n",
       "    </tr>\n",
       "    <tr>\n",
       "      <th>32559</th>\n",
       "      <td>22</td>\n",
       "      <td>Private</td>\n",
       "      <td>201490</td>\n",
       "      <td>HS-grad</td>\n",
       "      <td>9</td>\n",
       "      <td>Never-married</td>\n",
       "      <td>Adm-clerical</td>\n",
       "      <td>Own-child</td>\n",
       "      <td>White</td>\n",
       "      <td>20</td>\n",
       "      <td>...</td>\n",
       "      <td>0</td>\n",
       "      <td>0</td>\n",
       "      <td>0</td>\n",
       "      <td>0</td>\n",
       "      <td>0</td>\n",
       "      <td>1</td>\n",
       "      <td>0</td>\n",
       "      <td>0</td>\n",
       "      <td>0</td>\n",
       "      <td>0</td>\n",
       "    </tr>\n",
       "    <tr>\n",
       "      <th>32560</th>\n",
       "      <td>52</td>\n",
       "      <td>Self-emp-inc</td>\n",
       "      <td>287927</td>\n",
       "      <td>HS-grad</td>\n",
       "      <td>9</td>\n",
       "      <td>Married-civ-spouse</td>\n",
       "      <td>Exec-managerial</td>\n",
       "      <td>Wife</td>\n",
       "      <td>White</td>\n",
       "      <td>40</td>\n",
       "      <td>...</td>\n",
       "      <td>0</td>\n",
       "      <td>0</td>\n",
       "      <td>0</td>\n",
       "      <td>0</td>\n",
       "      <td>0</td>\n",
       "      <td>1</td>\n",
       "      <td>0</td>\n",
       "      <td>0</td>\n",
       "      <td>0</td>\n",
       "      <td>0</td>\n",
       "    </tr>\n",
       "  </tbody>\n",
       "</table>\n",
       "<p>32561 rows × 37 columns</p>\n",
       "</div>"
      ],
      "text/plain": [
       "       age         workclass  final_weight   education  education_num  \\\n",
       "0       39         State-gov         77516   Bachelors             13   \n",
       "1       50  Self-emp-not-inc         83311   Bachelors             13   \n",
       "2       38           Private        215646     HS-grad              9   \n",
       "3       53           Private        234721        11th              7   \n",
       "4       28           Private        338409   Bachelors             13   \n",
       "...    ...               ...           ...         ...            ...   \n",
       "32556   27           Private        257302  Assoc-acdm             12   \n",
       "32557   40           Private        154374     HS-grad              9   \n",
       "32558   58           Private        151910     HS-grad              9   \n",
       "32559   22           Private        201490     HS-grad              9   \n",
       "32560   52      Self-emp-inc        287927     HS-grad              9   \n",
       "\n",
       "           marital_status         occupation   relationship   race  \\\n",
       "0           Never-married       Adm-clerical  Not-in-family  White   \n",
       "1      Married-civ-spouse    Exec-managerial        Husband  White   \n",
       "2                Divorced  Handlers-cleaners  Not-in-family  White   \n",
       "3      Married-civ-spouse  Handlers-cleaners        Husband  Black   \n",
       "4      Married-civ-spouse     Prof-specialty           Wife  Black   \n",
       "...                   ...                ...            ...    ...   \n",
       "32556  Married-civ-spouse       Tech-support           Wife  White   \n",
       "32557  Married-civ-spouse  Machine-op-inspct        Husband  White   \n",
       "32558             Widowed       Adm-clerical      Unmarried  White   \n",
       "32559       Never-married       Adm-clerical      Own-child  White   \n",
       "32560  Married-civ-spouse    Exec-managerial           Wife  White   \n",
       "\n",
       "       hour_per_week  ...  9th  Assoc-acdm  Assoc-voc  Bachelors  Doctorate  \\\n",
       "0                 40  ...    0           0          0          1          0   \n",
       "1                 13  ...    0           0          0          1          0   \n",
       "2                 40  ...    0           0          0          0          0   \n",
       "3                 40  ...    0           0          0          0          0   \n",
       "4                 40  ...    0           0          0          1          0   \n",
       "...              ...  ...  ...         ...        ...        ...        ...   \n",
       "32556             38  ...    0           1          0          0          0   \n",
       "32557             40  ...    0           0          0          0          0   \n",
       "32558             40  ...    0           0          0          0          0   \n",
       "32559             20  ...    0           0          0          0          0   \n",
       "32560             40  ...    0           0          0          0          0   \n",
       "\n",
       "       HS-grad  Masters  Preschool  Prof-school  Some-college  \n",
       "0            0        0          0            0             0  \n",
       "1            0        0          0            0             0  \n",
       "2            1        0          0            0             0  \n",
       "3            0        0          0            0             0  \n",
       "4            0        0          0            0             0  \n",
       "...        ...      ...        ...          ...           ...  \n",
       "32556        0        0          0            0             0  \n",
       "32557        1        0          0            0             0  \n",
       "32558        1        0          0            0             0  \n",
       "32559        1        0          0            0             0  \n",
       "32560        1        0          0            0             0  \n",
       "\n",
       "[32561 rows x 37 columns]"
      ]
     },
     "execution_count": 57,
     "metadata": {},
     "output_type": "execute_result"
    }
   ],
   "source": [
    "df_menu"
   ]
  },
  {
   "cell_type": "code",
   "execution_count": 58,
   "id": "amazing-compatibility",
   "metadata": {},
   "outputs": [
    {
     "data": {
      "text/plain": [
       "(array(['Amer-Indian-Eskimo', 'Asian-Pac-Islander', 'Black', 'Other',\n",
       "        'White'], dtype=object),\n",
       " array([  311,  1039,  3124,   271, 27816]))"
      ]
     },
     "execution_count": 58,
     "metadata": {},
     "output_type": "execute_result"
    }
   ],
   "source": [
    "np.unique(df['race'], return_counts = True)"
   ]
  },
  {
   "cell_type": "code",
   "execution_count": 59,
   "id": "growing-court",
   "metadata": {},
   "outputs": [],
   "source": [
    "def tipo_race(line):\n",
    "    if line == 'Amer-Indian-Eskimo' :\n",
    "        return 'Amer-Indian-Eskimo'\n",
    "    elif line == 'Asian-Pac-Islander' :\n",
    "        return 'Asian-Pac-Islander'\n",
    "    elif line == 'Black' :\n",
    "        return 'Black'\n",
    "    elif line == 'Other' :\n",
    "        return 'Other'\n",
    "    elif line == 'White' :\n",
    "        return 'White'"
   ]
  },
  {
   "cell_type": "code",
   "execution_count": 60,
   "id": "banner-penalty",
   "metadata": {},
   "outputs": [],
   "source": [
    "df_['race_']   = df_['race'].apply(lambda x: tipo_race(x))\n",
    "df_race = pd.get_dummies(df_['race_'], dummy_na=True)"
   ]
  },
  {
   "cell_type": "code",
   "execution_count": 61,
   "id": "mathematical-meter",
   "metadata": {},
   "outputs": [
    {
     "data": {
      "text/plain": [
       "Index(['Amer-Indian-Eskimo', 'Asian-Pac-Islander', 'Black', 'Other', 'White',\n",
       "       nan],\n",
       "      dtype='object')"
      ]
     },
     "execution_count": 61,
     "metadata": {},
     "output_type": "execute_result"
    }
   ],
   "source": [
    "df_race.columns"
   ]
  },
  {
   "cell_type": "code",
   "execution_count": 62,
   "id": "indoor-colombia",
   "metadata": {},
   "outputs": [],
   "source": [
    "df_race.columns   = [  'Amer_Indian_Eskimo', 'Asian_Pac_Islander', 'Black', 'Other', 'White','No_def_race' ]\n"
   ]
  },
  {
   "cell_type": "code",
   "execution_count": 63,
   "id": "noted-retreat",
   "metadata": {},
   "outputs": [],
   "source": [
    "df_race = df_race.drop(['No_def_race'], axis = 1)\n",
    "df_menu = pd.concat([df_menu, df_race ], axis=1, join=\"inner\")"
   ]
  },
  {
   "cell_type": "code",
   "execution_count": 64,
   "id": "durable-straight",
   "metadata": {},
   "outputs": [],
   "source": [
    "df_menu = df_menu.drop(['education', 'race', 'workclass'], axis = 1)"
   ]
  },
  {
   "cell_type": "code",
   "execution_count": 65,
   "id": "stable-wagon",
   "metadata": {},
   "outputs": [
    {
     "data": {
      "text/html": [
       "<div>\n",
       "<style scoped>\n",
       "    .dataframe tbody tr th:only-of-type {\n",
       "        vertical-align: middle;\n",
       "    }\n",
       "\n",
       "    .dataframe tbody tr th {\n",
       "        vertical-align: top;\n",
       "    }\n",
       "\n",
       "    .dataframe thead th {\n",
       "        text-align: right;\n",
       "    }\n",
       "</style>\n",
       "<table border=\"1\" class=\"dataframe\">\n",
       "  <thead>\n",
       "    <tr style=\"text-align: right;\">\n",
       "      <th></th>\n",
       "      <th>age</th>\n",
       "      <th>final_weight</th>\n",
       "      <th>education_num</th>\n",
       "      <th>marital_status</th>\n",
       "      <th>occupation</th>\n",
       "      <th>relationship</th>\n",
       "      <th>hour_per_week</th>\n",
       "      <th>Female</th>\n",
       "      <th>Male</th>\n",
       "      <th>Federal-gov</th>\n",
       "      <th>...</th>\n",
       "      <th>HS-grad</th>\n",
       "      <th>Masters</th>\n",
       "      <th>Preschool</th>\n",
       "      <th>Prof-school</th>\n",
       "      <th>Some-college</th>\n",
       "      <th>Amer-Indian-Eskimo</th>\n",
       "      <th>Asian-Pac-Islander</th>\n",
       "      <th>Black</th>\n",
       "      <th>Other</th>\n",
       "      <th>White</th>\n",
       "    </tr>\n",
       "  </thead>\n",
       "  <tbody>\n",
       "    <tr>\n",
       "      <th>0</th>\n",
       "      <td>39</td>\n",
       "      <td>77516</td>\n",
       "      <td>13</td>\n",
       "      <td>Never-married</td>\n",
       "      <td>Adm-clerical</td>\n",
       "      <td>Not-in-family</td>\n",
       "      <td>40</td>\n",
       "      <td>0</td>\n",
       "      <td>1</td>\n",
       "      <td>0</td>\n",
       "      <td>...</td>\n",
       "      <td>0</td>\n",
       "      <td>0</td>\n",
       "      <td>0</td>\n",
       "      <td>0</td>\n",
       "      <td>0</td>\n",
       "      <td>0</td>\n",
       "      <td>0</td>\n",
       "      <td>0</td>\n",
       "      <td>0</td>\n",
       "      <td>1</td>\n",
       "    </tr>\n",
       "    <tr>\n",
       "      <th>1</th>\n",
       "      <td>50</td>\n",
       "      <td>83311</td>\n",
       "      <td>13</td>\n",
       "      <td>Married-civ-spouse</td>\n",
       "      <td>Exec-managerial</td>\n",
       "      <td>Husband</td>\n",
       "      <td>13</td>\n",
       "      <td>0</td>\n",
       "      <td>1</td>\n",
       "      <td>0</td>\n",
       "      <td>...</td>\n",
       "      <td>0</td>\n",
       "      <td>0</td>\n",
       "      <td>0</td>\n",
       "      <td>0</td>\n",
       "      <td>0</td>\n",
       "      <td>0</td>\n",
       "      <td>0</td>\n",
       "      <td>0</td>\n",
       "      <td>0</td>\n",
       "      <td>1</td>\n",
       "    </tr>\n",
       "    <tr>\n",
       "      <th>2</th>\n",
       "      <td>38</td>\n",
       "      <td>215646</td>\n",
       "      <td>9</td>\n",
       "      <td>Divorced</td>\n",
       "      <td>Handlers-cleaners</td>\n",
       "      <td>Not-in-family</td>\n",
       "      <td>40</td>\n",
       "      <td>0</td>\n",
       "      <td>1</td>\n",
       "      <td>0</td>\n",
       "      <td>...</td>\n",
       "      <td>1</td>\n",
       "      <td>0</td>\n",
       "      <td>0</td>\n",
       "      <td>0</td>\n",
       "      <td>0</td>\n",
       "      <td>0</td>\n",
       "      <td>0</td>\n",
       "      <td>0</td>\n",
       "      <td>0</td>\n",
       "      <td>1</td>\n",
       "    </tr>\n",
       "    <tr>\n",
       "      <th>3</th>\n",
       "      <td>53</td>\n",
       "      <td>234721</td>\n",
       "      <td>7</td>\n",
       "      <td>Married-civ-spouse</td>\n",
       "      <td>Handlers-cleaners</td>\n",
       "      <td>Husband</td>\n",
       "      <td>40</td>\n",
       "      <td>0</td>\n",
       "      <td>1</td>\n",
       "      <td>0</td>\n",
       "      <td>...</td>\n",
       "      <td>0</td>\n",
       "      <td>0</td>\n",
       "      <td>0</td>\n",
       "      <td>0</td>\n",
       "      <td>0</td>\n",
       "      <td>0</td>\n",
       "      <td>0</td>\n",
       "      <td>1</td>\n",
       "      <td>0</td>\n",
       "      <td>0</td>\n",
       "    </tr>\n",
       "    <tr>\n",
       "      <th>4</th>\n",
       "      <td>28</td>\n",
       "      <td>338409</td>\n",
       "      <td>13</td>\n",
       "      <td>Married-civ-spouse</td>\n",
       "      <td>Prof-specialty</td>\n",
       "      <td>Wife</td>\n",
       "      <td>40</td>\n",
       "      <td>1</td>\n",
       "      <td>0</td>\n",
       "      <td>0</td>\n",
       "      <td>...</td>\n",
       "      <td>0</td>\n",
       "      <td>0</td>\n",
       "      <td>0</td>\n",
       "      <td>0</td>\n",
       "      <td>0</td>\n",
       "      <td>0</td>\n",
       "      <td>0</td>\n",
       "      <td>1</td>\n",
       "      <td>0</td>\n",
       "      <td>0</td>\n",
       "    </tr>\n",
       "    <tr>\n",
       "      <th>...</th>\n",
       "      <td>...</td>\n",
       "      <td>...</td>\n",
       "      <td>...</td>\n",
       "      <td>...</td>\n",
       "      <td>...</td>\n",
       "      <td>...</td>\n",
       "      <td>...</td>\n",
       "      <td>...</td>\n",
       "      <td>...</td>\n",
       "      <td>...</td>\n",
       "      <td>...</td>\n",
       "      <td>...</td>\n",
       "      <td>...</td>\n",
       "      <td>...</td>\n",
       "      <td>...</td>\n",
       "      <td>...</td>\n",
       "      <td>...</td>\n",
       "      <td>...</td>\n",
       "      <td>...</td>\n",
       "      <td>...</td>\n",
       "      <td>...</td>\n",
       "    </tr>\n",
       "    <tr>\n",
       "      <th>32556</th>\n",
       "      <td>27</td>\n",
       "      <td>257302</td>\n",
       "      <td>12</td>\n",
       "      <td>Married-civ-spouse</td>\n",
       "      <td>Tech-support</td>\n",
       "      <td>Wife</td>\n",
       "      <td>38</td>\n",
       "      <td>1</td>\n",
       "      <td>0</td>\n",
       "      <td>0</td>\n",
       "      <td>...</td>\n",
       "      <td>0</td>\n",
       "      <td>0</td>\n",
       "      <td>0</td>\n",
       "      <td>0</td>\n",
       "      <td>0</td>\n",
       "      <td>0</td>\n",
       "      <td>0</td>\n",
       "      <td>0</td>\n",
       "      <td>0</td>\n",
       "      <td>1</td>\n",
       "    </tr>\n",
       "    <tr>\n",
       "      <th>32557</th>\n",
       "      <td>40</td>\n",
       "      <td>154374</td>\n",
       "      <td>9</td>\n",
       "      <td>Married-civ-spouse</td>\n",
       "      <td>Machine-op-inspct</td>\n",
       "      <td>Husband</td>\n",
       "      <td>40</td>\n",
       "      <td>0</td>\n",
       "      <td>1</td>\n",
       "      <td>0</td>\n",
       "      <td>...</td>\n",
       "      <td>1</td>\n",
       "      <td>0</td>\n",
       "      <td>0</td>\n",
       "      <td>0</td>\n",
       "      <td>0</td>\n",
       "      <td>0</td>\n",
       "      <td>0</td>\n",
       "      <td>0</td>\n",
       "      <td>0</td>\n",
       "      <td>1</td>\n",
       "    </tr>\n",
       "    <tr>\n",
       "      <th>32558</th>\n",
       "      <td>58</td>\n",
       "      <td>151910</td>\n",
       "      <td>9</td>\n",
       "      <td>Widowed</td>\n",
       "      <td>Adm-clerical</td>\n",
       "      <td>Unmarried</td>\n",
       "      <td>40</td>\n",
       "      <td>1</td>\n",
       "      <td>0</td>\n",
       "      <td>0</td>\n",
       "      <td>...</td>\n",
       "      <td>1</td>\n",
       "      <td>0</td>\n",
       "      <td>0</td>\n",
       "      <td>0</td>\n",
       "      <td>0</td>\n",
       "      <td>0</td>\n",
       "      <td>0</td>\n",
       "      <td>0</td>\n",
       "      <td>0</td>\n",
       "      <td>1</td>\n",
       "    </tr>\n",
       "    <tr>\n",
       "      <th>32559</th>\n",
       "      <td>22</td>\n",
       "      <td>201490</td>\n",
       "      <td>9</td>\n",
       "      <td>Never-married</td>\n",
       "      <td>Adm-clerical</td>\n",
       "      <td>Own-child</td>\n",
       "      <td>20</td>\n",
       "      <td>0</td>\n",
       "      <td>1</td>\n",
       "      <td>0</td>\n",
       "      <td>...</td>\n",
       "      <td>1</td>\n",
       "      <td>0</td>\n",
       "      <td>0</td>\n",
       "      <td>0</td>\n",
       "      <td>0</td>\n",
       "      <td>0</td>\n",
       "      <td>0</td>\n",
       "      <td>0</td>\n",
       "      <td>0</td>\n",
       "      <td>1</td>\n",
       "    </tr>\n",
       "    <tr>\n",
       "      <th>32560</th>\n",
       "      <td>52</td>\n",
       "      <td>287927</td>\n",
       "      <td>9</td>\n",
       "      <td>Married-civ-spouse</td>\n",
       "      <td>Exec-managerial</td>\n",
       "      <td>Wife</td>\n",
       "      <td>40</td>\n",
       "      <td>1</td>\n",
       "      <td>0</td>\n",
       "      <td>0</td>\n",
       "      <td>...</td>\n",
       "      <td>1</td>\n",
       "      <td>0</td>\n",
       "      <td>0</td>\n",
       "      <td>0</td>\n",
       "      <td>0</td>\n",
       "      <td>0</td>\n",
       "      <td>0</td>\n",
       "      <td>0</td>\n",
       "      <td>0</td>\n",
       "      <td>1</td>\n",
       "    </tr>\n",
       "  </tbody>\n",
       "</table>\n",
       "<p>32561 rows × 39 columns</p>\n",
       "</div>"
      ],
      "text/plain": [
       "       age  final_weight  education_num      marital_status  \\\n",
       "0       39         77516             13       Never-married   \n",
       "1       50         83311             13  Married-civ-spouse   \n",
       "2       38        215646              9            Divorced   \n",
       "3       53        234721              7  Married-civ-spouse   \n",
       "4       28        338409             13  Married-civ-spouse   \n",
       "...    ...           ...            ...                 ...   \n",
       "32556   27        257302             12  Married-civ-spouse   \n",
       "32557   40        154374              9  Married-civ-spouse   \n",
       "32558   58        151910              9             Widowed   \n",
       "32559   22        201490              9       Never-married   \n",
       "32560   52        287927              9  Married-civ-spouse   \n",
       "\n",
       "              occupation   relationship  hour_per_week  Female  Male  \\\n",
       "0           Adm-clerical  Not-in-family             40       0     1   \n",
       "1        Exec-managerial        Husband             13       0     1   \n",
       "2      Handlers-cleaners  Not-in-family             40       0     1   \n",
       "3      Handlers-cleaners        Husband             40       0     1   \n",
       "4         Prof-specialty           Wife             40       1     0   \n",
       "...                  ...            ...            ...     ...   ...   \n",
       "32556       Tech-support           Wife             38       1     0   \n",
       "32557  Machine-op-inspct        Husband             40       0     1   \n",
       "32558       Adm-clerical      Unmarried             40       1     0   \n",
       "32559       Adm-clerical      Own-child             20       0     1   \n",
       "32560    Exec-managerial           Wife             40       1     0   \n",
       "\n",
       "       Federal-gov  ...  HS-grad  Masters  Preschool  Prof-school  \\\n",
       "0                0  ...        0        0          0            0   \n",
       "1                0  ...        0        0          0            0   \n",
       "2                0  ...        1        0          0            0   \n",
       "3                0  ...        0        0          0            0   \n",
       "4                0  ...        0        0          0            0   \n",
       "...            ...  ...      ...      ...        ...          ...   \n",
       "32556            0  ...        0        0          0            0   \n",
       "32557            0  ...        1        0          0            0   \n",
       "32558            0  ...        1        0          0            0   \n",
       "32559            0  ...        1        0          0            0   \n",
       "32560            0  ...        1        0          0            0   \n",
       "\n",
       "       Some-college  Amer-Indian-Eskimo  Asian-Pac-Islander  Black  Other  \\\n",
       "0                 0                   0                   0      0      0   \n",
       "1                 0                   0                   0      0      0   \n",
       "2                 0                   0                   0      0      0   \n",
       "3                 0                   0                   0      1      0   \n",
       "4                 0                   0                   0      1      0   \n",
       "...             ...                 ...                 ...    ...    ...   \n",
       "32556             0                   0                   0      0      0   \n",
       "32557             0                   0                   0      0      0   \n",
       "32558             0                   0                   0      0      0   \n",
       "32559             0                   0                   0      0      0   \n",
       "32560             0                   0                   0      0      0   \n",
       "\n",
       "       White  \n",
       "0          1  \n",
       "1          1  \n",
       "2          1  \n",
       "3          0  \n",
       "4          0  \n",
       "...      ...  \n",
       "32556      1  \n",
       "32557      1  \n",
       "32558      1  \n",
       "32559      1  \n",
       "32560      1  \n",
       "\n",
       "[32561 rows x 39 columns]"
      ]
     },
     "execution_count": 65,
     "metadata": {},
     "output_type": "execute_result"
    }
   ],
   "source": [
    "df_menu"
   ]
  },
  {
   "cell_type": "code",
   "execution_count": 66,
   "id": "exposed-heath",
   "metadata": {},
   "outputs": [
    {
     "data": {
      "text/plain": [
       "(array(['Husband', 'Not-in-family', 'Other-relative', 'Own-child',\n",
       "        'Unmarried', 'Wife'], dtype=object),\n",
       " array([13193,  8305,   981,  5068,  3446,  1568]))"
      ]
     },
     "execution_count": 66,
     "metadata": {},
     "output_type": "execute_result"
    }
   ],
   "source": [
    "np.unique(df['relationship'], return_counts = True)"
   ]
  },
  {
   "cell_type": "code",
   "execution_count": 67,
   "id": "intermediate-tanzania",
   "metadata": {},
   "outputs": [],
   "source": [
    "def tipo_relationship(line):\n",
    "    if line == 'Husband' :\n",
    "        return 'Husband'\n",
    "    elif line == 'Not-in-family' :\n",
    "        return 'Not-in-family'\n",
    "    elif line == 'Other-relative' :\n",
    "        return 'Other-relative'\n",
    "    elif line == 'Own-child' :\n",
    "        return 'Own-child'\n",
    "    elif line == 'Unmarried' :\n",
    "        return 'Unmarried'\n",
    "    elif line == 'Wife' :\n",
    "        return 'Wife'"
   ]
  },
  {
   "cell_type": "code",
   "execution_count": 68,
   "id": "clear-windows",
   "metadata": {},
   "outputs": [],
   "source": [
    "df_['relationship_']   = df_['relationship'].apply(lambda x: tipo_relationship(x))\n",
    "df_relationship = pd.get_dummies(df_['relationship_'], dummy_na=True)"
   ]
  },
  {
   "cell_type": "code",
   "execution_count": 69,
   "id": "former-steel",
   "metadata": {},
   "outputs": [
    {
     "data": {
      "text/plain": [
       "Index([       'Husband',  'Not-in-family', 'Other-relative',      'Own-child',\n",
       "            'Unmarried',           'Wife',              nan],\n",
       "      dtype='object')"
      ]
     },
     "execution_count": 69,
     "metadata": {},
     "output_type": "execute_result"
    }
   ],
   "source": [
    "df_relationship.columns"
   ]
  },
  {
   "cell_type": "code",
   "execution_count": 70,
   "id": "dress-spine",
   "metadata": {},
   "outputs": [],
   "source": [
    "df_relationship.columns   = [ 'Husband',  'Not-in-family', 'Other-relative',      'Own-child',\n",
    "            'Unmarried',           'Wife' ,'No_def_relationship' ]"
   ]
  },
  {
   "cell_type": "code",
   "execution_count": 71,
   "id": "italic-devil",
   "metadata": {},
   "outputs": [],
   "source": [
    "df_relationship = df_relationship.drop(['No_def_relationship'], axis = 1)"
   ]
  },
  {
   "cell_type": "code",
   "execution_count": 72,
   "id": "considerable-panel",
   "metadata": {},
   "outputs": [],
   "source": [
    "df_menu = pd.concat([df_menu, df_relationship ], axis=1, join=\"inner\")"
   ]
  },
  {
   "cell_type": "code",
   "execution_count": 73,
   "id": "healthy-envelope",
   "metadata": {},
   "outputs": [
    {
     "data": {
      "text/plain": [
       "(array(['?', 'Adm-clerical', 'Armed-Forces', 'Craft-repair',\n",
       "        'Exec-managerial', 'Farming-fishing', 'Handlers-cleaners',\n",
       "        'Machine-op-inspct', 'Other-service', 'Priv-house-serv',\n",
       "        'Prof-specialty', 'Protective-serv', 'Sales', 'Tech-support',\n",
       "        'Transport-moving'], dtype=object),\n",
       " array([1843, 3770,    9, 4099, 4066,  994, 1370, 2002, 3295,  149, 4140,\n",
       "         649, 3650,  928, 1597]))"
      ]
     },
     "execution_count": 73,
     "metadata": {},
     "output_type": "execute_result"
    }
   ],
   "source": [
    "np.unique(df['occupation'], return_counts = True)"
   ]
  },
  {
   "cell_type": "code",
   "execution_count": 74,
   "id": "otherwise-focus",
   "metadata": {},
   "outputs": [],
   "source": [
    "def tipo_occupation(line):\n",
    "    if line == '?' :\n",
    "        return 'Indefinido'\n",
    "    elif line == 'Adm-clerical' :\n",
    "        return 'Adm-clerical'\n",
    "    elif line == 'Armed-Forces' :\n",
    "        return 'Armed-Forces'\n",
    "    elif line == 'Exec-managerial' :\n",
    "        return 'Exec-managerial'\n",
    "    elif line == 'Farming-fishing' :\n",
    "        return 'Farming-fishing'\n",
    "    elif line == 'Handlers-cleaners' :\n",
    "        return 'Handlers-cleaners'\n",
    "    elif line == 'Machine-op-inspct' :\n",
    "        return 'Machine-op-inspct'\n",
    "    elif line == 'Other-service' :\n",
    "        return 'Other-service'\n",
    "    elif line == 'Priv-house-serv' :\n",
    "        return 'Priv-house-serv'\n",
    "    elif line == 'Prof-specialty' :\n",
    "        return 'Prof-specialty'\n",
    "    elif line == 'Protective-serv' :\n",
    "        return 'Protective-serv'\n",
    "    elif line == 'Sales' :\n",
    "        return 'Sales'\n",
    "    elif line == 'Tech-support' :\n",
    "        return 'Tech-support'\n",
    "    elif line == 'Transport-moving' :\n",
    "        return 'Transport-moving'"
   ]
  },
  {
   "cell_type": "code",
   "execution_count": 75,
   "id": "confused-richmond",
   "metadata": {},
   "outputs": [],
   "source": [
    "df_['occupation_']   = df_['occupation'].apply(lambda x: tipo_occupation(x))\n",
    "df_occupation = pd.get_dummies(df_['occupation_'], dummy_na=True)"
   ]
  },
  {
   "cell_type": "code",
   "execution_count": 76,
   "id": "swiss-morning",
   "metadata": {},
   "outputs": [
    {
     "data": {
      "text/plain": [
       "Index([     'Adm-clerical',      'Armed-Forces',   'Exec-managerial',\n",
       "         'Farming-fishing', 'Handlers-cleaners',        'Indefinido',\n",
       "       'Machine-op-inspct',     'Other-service',   'Priv-house-serv',\n",
       "          'Prof-specialty',   'Protective-serv',             'Sales',\n",
       "            'Tech-support',  'Transport-moving',                 nan],\n",
       "      dtype='object')"
      ]
     },
     "execution_count": 76,
     "metadata": {},
     "output_type": "execute_result"
    }
   ],
   "source": [
    "df_occupation.columns"
   ]
  },
  {
   "cell_type": "code",
   "execution_count": 77,
   "id": "american-garbage",
   "metadata": {},
   "outputs": [],
   "source": [
    "df_occupation.columns   = [    'Adm_clerical',      'Armed_Forces',   'Exec_managerial',\n",
    "         'Farming-fishing', 'Handlers-cleaners',        'Indefinido',\n",
    "       'Machine_op_inspct',     'Other_service',   'Priv_house_serv',\n",
    "          'Prof_specialty',   'Protective_serv',             'Sales',\n",
    "            'Tech_support',  'Transport_moving','No_def_occupation' ]"
   ]
  },
  {
   "cell_type": "code",
   "execution_count": 78,
   "id": "vietnamese-citizen",
   "metadata": {},
   "outputs": [],
   "source": [
    "df_occupation = df_occupation.drop(['No_def_occupation'], axis = 1)\n",
    "df_menu = pd.concat([df_menu, df_occupation ], axis=1, join=\"inner\")"
   ]
  },
  {
   "cell_type": "code",
   "execution_count": 79,
   "id": "automatic-silver",
   "metadata": {},
   "outputs": [
    {
     "data": {
      "text/html": [
       "<div>\n",
       "<style scoped>\n",
       "    .dataframe tbody tr th:only-of-type {\n",
       "        vertical-align: middle;\n",
       "    }\n",
       "\n",
       "    .dataframe tbody tr th {\n",
       "        vertical-align: top;\n",
       "    }\n",
       "\n",
       "    .dataframe thead th {\n",
       "        text-align: right;\n",
       "    }\n",
       "</style>\n",
       "<table border=\"1\" class=\"dataframe\">\n",
       "  <thead>\n",
       "    <tr style=\"text-align: right;\">\n",
       "      <th></th>\n",
       "      <th>age</th>\n",
       "      <th>final_weight</th>\n",
       "      <th>education_num</th>\n",
       "      <th>marital_status</th>\n",
       "      <th>occupation</th>\n",
       "      <th>relationship</th>\n",
       "      <th>hour_per_week</th>\n",
       "      <th>Female</th>\n",
       "      <th>Male</th>\n",
       "      <th>Federal-gov</th>\n",
       "      <th>...</th>\n",
       "      <th>Handlers-cleaners</th>\n",
       "      <th>Indefinido</th>\n",
       "      <th>Machine-op-inspct</th>\n",
       "      <th>Other-service</th>\n",
       "      <th>Priv-house-serv</th>\n",
       "      <th>Prof-specialty</th>\n",
       "      <th>Protective-serv</th>\n",
       "      <th>Sales</th>\n",
       "      <th>Tech-support</th>\n",
       "      <th>Transport-moving</th>\n",
       "    </tr>\n",
       "  </thead>\n",
       "  <tbody>\n",
       "    <tr>\n",
       "      <th>0</th>\n",
       "      <td>39</td>\n",
       "      <td>77516</td>\n",
       "      <td>13</td>\n",
       "      <td>Never-married</td>\n",
       "      <td>Adm-clerical</td>\n",
       "      <td>Not-in-family</td>\n",
       "      <td>40</td>\n",
       "      <td>0</td>\n",
       "      <td>1</td>\n",
       "      <td>0</td>\n",
       "      <td>...</td>\n",
       "      <td>0</td>\n",
       "      <td>0</td>\n",
       "      <td>0</td>\n",
       "      <td>0</td>\n",
       "      <td>0</td>\n",
       "      <td>0</td>\n",
       "      <td>0</td>\n",
       "      <td>0</td>\n",
       "      <td>0</td>\n",
       "      <td>0</td>\n",
       "    </tr>\n",
       "    <tr>\n",
       "      <th>1</th>\n",
       "      <td>50</td>\n",
       "      <td>83311</td>\n",
       "      <td>13</td>\n",
       "      <td>Married-civ-spouse</td>\n",
       "      <td>Exec-managerial</td>\n",
       "      <td>Husband</td>\n",
       "      <td>13</td>\n",
       "      <td>0</td>\n",
       "      <td>1</td>\n",
       "      <td>0</td>\n",
       "      <td>...</td>\n",
       "      <td>0</td>\n",
       "      <td>0</td>\n",
       "      <td>0</td>\n",
       "      <td>0</td>\n",
       "      <td>0</td>\n",
       "      <td>0</td>\n",
       "      <td>0</td>\n",
       "      <td>0</td>\n",
       "      <td>0</td>\n",
       "      <td>0</td>\n",
       "    </tr>\n",
       "    <tr>\n",
       "      <th>2</th>\n",
       "      <td>38</td>\n",
       "      <td>215646</td>\n",
       "      <td>9</td>\n",
       "      <td>Divorced</td>\n",
       "      <td>Handlers-cleaners</td>\n",
       "      <td>Not-in-family</td>\n",
       "      <td>40</td>\n",
       "      <td>0</td>\n",
       "      <td>1</td>\n",
       "      <td>0</td>\n",
       "      <td>...</td>\n",
       "      <td>1</td>\n",
       "      <td>0</td>\n",
       "      <td>0</td>\n",
       "      <td>0</td>\n",
       "      <td>0</td>\n",
       "      <td>0</td>\n",
       "      <td>0</td>\n",
       "      <td>0</td>\n",
       "      <td>0</td>\n",
       "      <td>0</td>\n",
       "    </tr>\n",
       "    <tr>\n",
       "      <th>3</th>\n",
       "      <td>53</td>\n",
       "      <td>234721</td>\n",
       "      <td>7</td>\n",
       "      <td>Married-civ-spouse</td>\n",
       "      <td>Handlers-cleaners</td>\n",
       "      <td>Husband</td>\n",
       "      <td>40</td>\n",
       "      <td>0</td>\n",
       "      <td>1</td>\n",
       "      <td>0</td>\n",
       "      <td>...</td>\n",
       "      <td>1</td>\n",
       "      <td>0</td>\n",
       "      <td>0</td>\n",
       "      <td>0</td>\n",
       "      <td>0</td>\n",
       "      <td>0</td>\n",
       "      <td>0</td>\n",
       "      <td>0</td>\n",
       "      <td>0</td>\n",
       "      <td>0</td>\n",
       "    </tr>\n",
       "    <tr>\n",
       "      <th>4</th>\n",
       "      <td>28</td>\n",
       "      <td>338409</td>\n",
       "      <td>13</td>\n",
       "      <td>Married-civ-spouse</td>\n",
       "      <td>Prof-specialty</td>\n",
       "      <td>Wife</td>\n",
       "      <td>40</td>\n",
       "      <td>1</td>\n",
       "      <td>0</td>\n",
       "      <td>0</td>\n",
       "      <td>...</td>\n",
       "      <td>0</td>\n",
       "      <td>0</td>\n",
       "      <td>0</td>\n",
       "      <td>0</td>\n",
       "      <td>0</td>\n",
       "      <td>1</td>\n",
       "      <td>0</td>\n",
       "      <td>0</td>\n",
       "      <td>0</td>\n",
       "      <td>0</td>\n",
       "    </tr>\n",
       "    <tr>\n",
       "      <th>...</th>\n",
       "      <td>...</td>\n",
       "      <td>...</td>\n",
       "      <td>...</td>\n",
       "      <td>...</td>\n",
       "      <td>...</td>\n",
       "      <td>...</td>\n",
       "      <td>...</td>\n",
       "      <td>...</td>\n",
       "      <td>...</td>\n",
       "      <td>...</td>\n",
       "      <td>...</td>\n",
       "      <td>...</td>\n",
       "      <td>...</td>\n",
       "      <td>...</td>\n",
       "      <td>...</td>\n",
       "      <td>...</td>\n",
       "      <td>...</td>\n",
       "      <td>...</td>\n",
       "      <td>...</td>\n",
       "      <td>...</td>\n",
       "      <td>...</td>\n",
       "    </tr>\n",
       "    <tr>\n",
       "      <th>32556</th>\n",
       "      <td>27</td>\n",
       "      <td>257302</td>\n",
       "      <td>12</td>\n",
       "      <td>Married-civ-spouse</td>\n",
       "      <td>Tech-support</td>\n",
       "      <td>Wife</td>\n",
       "      <td>38</td>\n",
       "      <td>1</td>\n",
       "      <td>0</td>\n",
       "      <td>0</td>\n",
       "      <td>...</td>\n",
       "      <td>0</td>\n",
       "      <td>0</td>\n",
       "      <td>0</td>\n",
       "      <td>0</td>\n",
       "      <td>0</td>\n",
       "      <td>0</td>\n",
       "      <td>0</td>\n",
       "      <td>0</td>\n",
       "      <td>1</td>\n",
       "      <td>0</td>\n",
       "    </tr>\n",
       "    <tr>\n",
       "      <th>32557</th>\n",
       "      <td>40</td>\n",
       "      <td>154374</td>\n",
       "      <td>9</td>\n",
       "      <td>Married-civ-spouse</td>\n",
       "      <td>Machine-op-inspct</td>\n",
       "      <td>Husband</td>\n",
       "      <td>40</td>\n",
       "      <td>0</td>\n",
       "      <td>1</td>\n",
       "      <td>0</td>\n",
       "      <td>...</td>\n",
       "      <td>0</td>\n",
       "      <td>0</td>\n",
       "      <td>1</td>\n",
       "      <td>0</td>\n",
       "      <td>0</td>\n",
       "      <td>0</td>\n",
       "      <td>0</td>\n",
       "      <td>0</td>\n",
       "      <td>0</td>\n",
       "      <td>0</td>\n",
       "    </tr>\n",
       "    <tr>\n",
       "      <th>32558</th>\n",
       "      <td>58</td>\n",
       "      <td>151910</td>\n",
       "      <td>9</td>\n",
       "      <td>Widowed</td>\n",
       "      <td>Adm-clerical</td>\n",
       "      <td>Unmarried</td>\n",
       "      <td>40</td>\n",
       "      <td>1</td>\n",
       "      <td>0</td>\n",
       "      <td>0</td>\n",
       "      <td>...</td>\n",
       "      <td>0</td>\n",
       "      <td>0</td>\n",
       "      <td>0</td>\n",
       "      <td>0</td>\n",
       "      <td>0</td>\n",
       "      <td>0</td>\n",
       "      <td>0</td>\n",
       "      <td>0</td>\n",
       "      <td>0</td>\n",
       "      <td>0</td>\n",
       "    </tr>\n",
       "    <tr>\n",
       "      <th>32559</th>\n",
       "      <td>22</td>\n",
       "      <td>201490</td>\n",
       "      <td>9</td>\n",
       "      <td>Never-married</td>\n",
       "      <td>Adm-clerical</td>\n",
       "      <td>Own-child</td>\n",
       "      <td>20</td>\n",
       "      <td>0</td>\n",
       "      <td>1</td>\n",
       "      <td>0</td>\n",
       "      <td>...</td>\n",
       "      <td>0</td>\n",
       "      <td>0</td>\n",
       "      <td>0</td>\n",
       "      <td>0</td>\n",
       "      <td>0</td>\n",
       "      <td>0</td>\n",
       "      <td>0</td>\n",
       "      <td>0</td>\n",
       "      <td>0</td>\n",
       "      <td>0</td>\n",
       "    </tr>\n",
       "    <tr>\n",
       "      <th>32560</th>\n",
       "      <td>52</td>\n",
       "      <td>287927</td>\n",
       "      <td>9</td>\n",
       "      <td>Married-civ-spouse</td>\n",
       "      <td>Exec-managerial</td>\n",
       "      <td>Wife</td>\n",
       "      <td>40</td>\n",
       "      <td>1</td>\n",
       "      <td>0</td>\n",
       "      <td>0</td>\n",
       "      <td>...</td>\n",
       "      <td>0</td>\n",
       "      <td>0</td>\n",
       "      <td>0</td>\n",
       "      <td>0</td>\n",
       "      <td>0</td>\n",
       "      <td>0</td>\n",
       "      <td>0</td>\n",
       "      <td>0</td>\n",
       "      <td>0</td>\n",
       "      <td>0</td>\n",
       "    </tr>\n",
       "  </tbody>\n",
       "</table>\n",
       "<p>32561 rows × 59 columns</p>\n",
       "</div>"
      ],
      "text/plain": [
       "       age  final_weight  education_num      marital_status  \\\n",
       "0       39         77516             13       Never-married   \n",
       "1       50         83311             13  Married-civ-spouse   \n",
       "2       38        215646              9            Divorced   \n",
       "3       53        234721              7  Married-civ-spouse   \n",
       "4       28        338409             13  Married-civ-spouse   \n",
       "...    ...           ...            ...                 ...   \n",
       "32556   27        257302             12  Married-civ-spouse   \n",
       "32557   40        154374              9  Married-civ-spouse   \n",
       "32558   58        151910              9             Widowed   \n",
       "32559   22        201490              9       Never-married   \n",
       "32560   52        287927              9  Married-civ-spouse   \n",
       "\n",
       "              occupation   relationship  hour_per_week  Female  Male  \\\n",
       "0           Adm-clerical  Not-in-family             40       0     1   \n",
       "1        Exec-managerial        Husband             13       0     1   \n",
       "2      Handlers-cleaners  Not-in-family             40       0     1   \n",
       "3      Handlers-cleaners        Husband             40       0     1   \n",
       "4         Prof-specialty           Wife             40       1     0   \n",
       "...                  ...            ...            ...     ...   ...   \n",
       "32556       Tech-support           Wife             38       1     0   \n",
       "32557  Machine-op-inspct        Husband             40       0     1   \n",
       "32558       Adm-clerical      Unmarried             40       1     0   \n",
       "32559       Adm-clerical      Own-child             20       0     1   \n",
       "32560    Exec-managerial           Wife             40       1     0   \n",
       "\n",
       "       Federal-gov  ...  Handlers-cleaners  Indefinido  Machine-op-inspct  \\\n",
       "0                0  ...                  0           0                  0   \n",
       "1                0  ...                  0           0                  0   \n",
       "2                0  ...                  1           0                  0   \n",
       "3                0  ...                  1           0                  0   \n",
       "4                0  ...                  0           0                  0   \n",
       "...            ...  ...                ...         ...                ...   \n",
       "32556            0  ...                  0           0                  0   \n",
       "32557            0  ...                  0           0                  1   \n",
       "32558            0  ...                  0           0                  0   \n",
       "32559            0  ...                  0           0                  0   \n",
       "32560            0  ...                  0           0                  0   \n",
       "\n",
       "       Other-service  Priv-house-serv  Prof-specialty  Protective-serv  Sales  \\\n",
       "0                  0                0               0                0      0   \n",
       "1                  0                0               0                0      0   \n",
       "2                  0                0               0                0      0   \n",
       "3                  0                0               0                0      0   \n",
       "4                  0                0               1                0      0   \n",
       "...              ...              ...             ...              ...    ...   \n",
       "32556              0                0               0                0      0   \n",
       "32557              0                0               0                0      0   \n",
       "32558              0                0               0                0      0   \n",
       "32559              0                0               0                0      0   \n",
       "32560              0                0               0                0      0   \n",
       "\n",
       "       Tech-support  Transport-moving  \n",
       "0                 0                 0  \n",
       "1                 0                 0  \n",
       "2                 0                 0  \n",
       "3                 0                 0  \n",
       "4                 0                 0  \n",
       "...             ...               ...  \n",
       "32556             1                 0  \n",
       "32557             0                 0  \n",
       "32558             0                 0  \n",
       "32559             0                 0  \n",
       "32560             0                 0  \n",
       "\n",
       "[32561 rows x 59 columns]"
      ]
     },
     "execution_count": 79,
     "metadata": {},
     "output_type": "execute_result"
    }
   ],
   "source": [
    "df_menu"
   ]
  },
  {
   "cell_type": "code",
   "execution_count": 80,
   "id": "therapeutic-reflection",
   "metadata": {},
   "outputs": [
    {
     "data": {
      "text/plain": [
       "(array(['Divorced', 'Married-AF-spouse', 'Married-civ-spouse',\n",
       "        'Married-spouse-absent', 'Never-married', 'Separated', 'Widowed'],\n",
       "       dtype=object),\n",
       " array([ 4443,    23, 14976,   418, 10683,  1025,   993]))"
      ]
     },
     "execution_count": 80,
     "metadata": {},
     "output_type": "execute_result"
    }
   ],
   "source": [
    "np.unique(df_['marital_status'], return_counts = True)"
   ]
  },
  {
   "cell_type": "code",
   "execution_count": 81,
   "id": "extensive-hardware",
   "metadata": {},
   "outputs": [],
   "source": [
    "def tipo_marital_status(line):\n",
    "    if line == 'Divorced' :\n",
    "        return 'Divorced'\n",
    "    elif line == 'Married-AF-spouse' :\n",
    "        return 'Married-AF-spouse'\n",
    "    elif line == 'Married-civ-spouse' :\n",
    "        return 'Married-civ-spouse'\n",
    "    elif line == 'Married-spouse-absent' :\n",
    "        return 'Married-spouse-absent'\n",
    "    elif line == 'Never-married' :\n",
    "        return 'Never-married'\n",
    "    elif line == 'Separated' :\n",
    "        return 'Separated'\n",
    "    elif line == 'Widowed' :\n",
    "        return 'Widowed'"
   ]
  },
  {
   "cell_type": "code",
   "execution_count": 82,
   "id": "instrumental-donor",
   "metadata": {},
   "outputs": [],
   "source": [
    "df_['marital_status']   = df_['marital_status'].apply(lambda x: tipo_marital_status(x))\n",
    "df_marital_status = pd.get_dummies(df_['marital_status'], dummy_na=True)"
   ]
  },
  {
   "cell_type": "code",
   "execution_count": 83,
   "id": "headed-miniature",
   "metadata": {},
   "outputs": [
    {
     "data": {
      "text/plain": [
       "Index([             'Divorced',     'Married-AF-spouse',\n",
       "          'Married-civ-spouse', 'Married-spouse-absent',\n",
       "               'Never-married',             'Separated',\n",
       "                     'Widowed',                     nan],\n",
       "      dtype='object')"
      ]
     },
     "execution_count": 83,
     "metadata": {},
     "output_type": "execute_result"
    }
   ],
   "source": [
    "df_marital_status.columns"
   ]
  },
  {
   "cell_type": "code",
   "execution_count": 84,
   "id": "metropolitan-dealer",
   "metadata": {},
   "outputs": [],
   "source": [
    "df_marital_status.columns   = [    'Divorced',     'Married_AF_spouse',\n",
    "          'Married_civ_spouse', 'Married_spouse_absent',\n",
    "               'Never_married',             'Separated',\n",
    "                     'Widowed','No_def_marital_status' ]"
   ]
  },
  {
   "cell_type": "code",
   "execution_count": 85,
   "id": "alert-amber",
   "metadata": {},
   "outputs": [],
   "source": [
    "df_marital_status = df_marital_status.drop(['No_def_marital_status'], axis = 1)\n",
    "df_menu = pd.concat([df_menu, df_marital_status ], axis=1, join=\"inner\")"
   ]
  },
  {
   "cell_type": "code",
   "execution_count": 86,
   "id": "light-psychology",
   "metadata": {},
   "outputs": [
    {
     "data": {
      "text/plain": [
       "Index(['age', 'final_weight', 'education_num', 'marital_status', 'occupation',\n",
       "       'relationship', 'hour_per_week', 'Female', 'Male', 'Federal-gov',\n",
       "       'Local-gov', 'Never-worked', 'Private', 'Self-emp-inc',\n",
       "       'Self-emp-not-inc', 'State-gov', 'Without-pay', 'desempregado', '10th',\n",
       "       '11th', '12th', '1st-4th', '5th-6th', '7th-8th', '9th', 'Assoc-acdm',\n",
       "       'Assoc-voc', 'Bachelors', 'Doctorate', 'HS-grad', 'Masters',\n",
       "       'Preschool', 'Prof-school', 'Some-college', 'Amer-Indian-Eskimo',\n",
       "       'Asian-Pac-Islander', 'Black', 'Other', 'White', 'Husband',\n",
       "       'Not-in-family', 'Other-relative', 'Own-child', 'Unmarried', 'Wife',\n",
       "       'Adm-clerical', 'Armed-Forces', 'Exec-managerial', 'Farming-fishing',\n",
       "       'Handlers-cleaners', 'Indefinido', 'Machine-op-inspct', 'Other-service',\n",
       "       'Priv-house-serv', 'Prof-specialty', 'Protective-serv', 'Sales',\n",
       "       'Tech-support', 'Transport-moving', 'Divorced', 'Married_AF_spouse',\n",
       "       'Married_civ_spouse', 'Married_spouse_absent', 'Never_married',\n",
       "       'Separated', 'Widowed'],\n",
       "      dtype='object')"
      ]
     },
     "execution_count": 86,
     "metadata": {},
     "output_type": "execute_result"
    }
   ],
   "source": [
    "df_menu.columns"
   ]
  },
  {
   "cell_type": "code",
   "execution_count": 87,
   "id": "dental-surprise",
   "metadata": {},
   "outputs": [],
   "source": [
    "df_menu = df_menu.drop(['occupation','marital_status','relationship' ], axis = 1)\n"
   ]
  },
  {
   "cell_type": "code",
   "execution_count": 88,
   "id": "stone-setting",
   "metadata": {},
   "outputs": [
    {
     "data": {
      "text/html": [
       "<div>\n",
       "<style scoped>\n",
       "    .dataframe tbody tr th:only-of-type {\n",
       "        vertical-align: middle;\n",
       "    }\n",
       "\n",
       "    .dataframe tbody tr th {\n",
       "        vertical-align: top;\n",
       "    }\n",
       "\n",
       "    .dataframe thead th {\n",
       "        text-align: right;\n",
       "    }\n",
       "</style>\n",
       "<table border=\"1\" class=\"dataframe\">\n",
       "  <thead>\n",
       "    <tr style=\"text-align: right;\">\n",
       "      <th></th>\n",
       "      <th>age</th>\n",
       "      <th>final_weight</th>\n",
       "      <th>education_num</th>\n",
       "      <th>hour_per_week</th>\n",
       "      <th>Female</th>\n",
       "      <th>Male</th>\n",
       "      <th>Federal-gov</th>\n",
       "      <th>Local-gov</th>\n",
       "      <th>Never-worked</th>\n",
       "      <th>Private</th>\n",
       "      <th>...</th>\n",
       "      <th>Sales</th>\n",
       "      <th>Tech-support</th>\n",
       "      <th>Transport-moving</th>\n",
       "      <th>Divorced</th>\n",
       "      <th>Married_AF_spouse</th>\n",
       "      <th>Married_civ_spouse</th>\n",
       "      <th>Married_spouse_absent</th>\n",
       "      <th>Never_married</th>\n",
       "      <th>Separated</th>\n",
       "      <th>Widowed</th>\n",
       "    </tr>\n",
       "  </thead>\n",
       "  <tbody>\n",
       "    <tr>\n",
       "      <th>0</th>\n",
       "      <td>39</td>\n",
       "      <td>77516</td>\n",
       "      <td>13</td>\n",
       "      <td>40</td>\n",
       "      <td>0</td>\n",
       "      <td>1</td>\n",
       "      <td>0</td>\n",
       "      <td>0</td>\n",
       "      <td>0</td>\n",
       "      <td>0</td>\n",
       "      <td>...</td>\n",
       "      <td>0</td>\n",
       "      <td>0</td>\n",
       "      <td>0</td>\n",
       "      <td>0</td>\n",
       "      <td>0</td>\n",
       "      <td>0</td>\n",
       "      <td>0</td>\n",
       "      <td>1</td>\n",
       "      <td>0</td>\n",
       "      <td>0</td>\n",
       "    </tr>\n",
       "    <tr>\n",
       "      <th>1</th>\n",
       "      <td>50</td>\n",
       "      <td>83311</td>\n",
       "      <td>13</td>\n",
       "      <td>13</td>\n",
       "      <td>0</td>\n",
       "      <td>1</td>\n",
       "      <td>0</td>\n",
       "      <td>0</td>\n",
       "      <td>0</td>\n",
       "      <td>0</td>\n",
       "      <td>...</td>\n",
       "      <td>0</td>\n",
       "      <td>0</td>\n",
       "      <td>0</td>\n",
       "      <td>0</td>\n",
       "      <td>0</td>\n",
       "      <td>1</td>\n",
       "      <td>0</td>\n",
       "      <td>0</td>\n",
       "      <td>0</td>\n",
       "      <td>0</td>\n",
       "    </tr>\n",
       "    <tr>\n",
       "      <th>2</th>\n",
       "      <td>38</td>\n",
       "      <td>215646</td>\n",
       "      <td>9</td>\n",
       "      <td>40</td>\n",
       "      <td>0</td>\n",
       "      <td>1</td>\n",
       "      <td>0</td>\n",
       "      <td>0</td>\n",
       "      <td>0</td>\n",
       "      <td>1</td>\n",
       "      <td>...</td>\n",
       "      <td>0</td>\n",
       "      <td>0</td>\n",
       "      <td>0</td>\n",
       "      <td>1</td>\n",
       "      <td>0</td>\n",
       "      <td>0</td>\n",
       "      <td>0</td>\n",
       "      <td>0</td>\n",
       "      <td>0</td>\n",
       "      <td>0</td>\n",
       "    </tr>\n",
       "    <tr>\n",
       "      <th>3</th>\n",
       "      <td>53</td>\n",
       "      <td>234721</td>\n",
       "      <td>7</td>\n",
       "      <td>40</td>\n",
       "      <td>0</td>\n",
       "      <td>1</td>\n",
       "      <td>0</td>\n",
       "      <td>0</td>\n",
       "      <td>0</td>\n",
       "      <td>1</td>\n",
       "      <td>...</td>\n",
       "      <td>0</td>\n",
       "      <td>0</td>\n",
       "      <td>0</td>\n",
       "      <td>0</td>\n",
       "      <td>0</td>\n",
       "      <td>1</td>\n",
       "      <td>0</td>\n",
       "      <td>0</td>\n",
       "      <td>0</td>\n",
       "      <td>0</td>\n",
       "    </tr>\n",
       "    <tr>\n",
       "      <th>4</th>\n",
       "      <td>28</td>\n",
       "      <td>338409</td>\n",
       "      <td>13</td>\n",
       "      <td>40</td>\n",
       "      <td>1</td>\n",
       "      <td>0</td>\n",
       "      <td>0</td>\n",
       "      <td>0</td>\n",
       "      <td>0</td>\n",
       "      <td>1</td>\n",
       "      <td>...</td>\n",
       "      <td>0</td>\n",
       "      <td>0</td>\n",
       "      <td>0</td>\n",
       "      <td>0</td>\n",
       "      <td>0</td>\n",
       "      <td>1</td>\n",
       "      <td>0</td>\n",
       "      <td>0</td>\n",
       "      <td>0</td>\n",
       "      <td>0</td>\n",
       "    </tr>\n",
       "    <tr>\n",
       "      <th>...</th>\n",
       "      <td>...</td>\n",
       "      <td>...</td>\n",
       "      <td>...</td>\n",
       "      <td>...</td>\n",
       "      <td>...</td>\n",
       "      <td>...</td>\n",
       "      <td>...</td>\n",
       "      <td>...</td>\n",
       "      <td>...</td>\n",
       "      <td>...</td>\n",
       "      <td>...</td>\n",
       "      <td>...</td>\n",
       "      <td>...</td>\n",
       "      <td>...</td>\n",
       "      <td>...</td>\n",
       "      <td>...</td>\n",
       "      <td>...</td>\n",
       "      <td>...</td>\n",
       "      <td>...</td>\n",
       "      <td>...</td>\n",
       "      <td>...</td>\n",
       "    </tr>\n",
       "    <tr>\n",
       "      <th>32556</th>\n",
       "      <td>27</td>\n",
       "      <td>257302</td>\n",
       "      <td>12</td>\n",
       "      <td>38</td>\n",
       "      <td>1</td>\n",
       "      <td>0</td>\n",
       "      <td>0</td>\n",
       "      <td>0</td>\n",
       "      <td>0</td>\n",
       "      <td>1</td>\n",
       "      <td>...</td>\n",
       "      <td>0</td>\n",
       "      <td>1</td>\n",
       "      <td>0</td>\n",
       "      <td>0</td>\n",
       "      <td>0</td>\n",
       "      <td>1</td>\n",
       "      <td>0</td>\n",
       "      <td>0</td>\n",
       "      <td>0</td>\n",
       "      <td>0</td>\n",
       "    </tr>\n",
       "    <tr>\n",
       "      <th>32557</th>\n",
       "      <td>40</td>\n",
       "      <td>154374</td>\n",
       "      <td>9</td>\n",
       "      <td>40</td>\n",
       "      <td>0</td>\n",
       "      <td>1</td>\n",
       "      <td>0</td>\n",
       "      <td>0</td>\n",
       "      <td>0</td>\n",
       "      <td>1</td>\n",
       "      <td>...</td>\n",
       "      <td>0</td>\n",
       "      <td>0</td>\n",
       "      <td>0</td>\n",
       "      <td>0</td>\n",
       "      <td>0</td>\n",
       "      <td>1</td>\n",
       "      <td>0</td>\n",
       "      <td>0</td>\n",
       "      <td>0</td>\n",
       "      <td>0</td>\n",
       "    </tr>\n",
       "    <tr>\n",
       "      <th>32558</th>\n",
       "      <td>58</td>\n",
       "      <td>151910</td>\n",
       "      <td>9</td>\n",
       "      <td>40</td>\n",
       "      <td>1</td>\n",
       "      <td>0</td>\n",
       "      <td>0</td>\n",
       "      <td>0</td>\n",
       "      <td>0</td>\n",
       "      <td>1</td>\n",
       "      <td>...</td>\n",
       "      <td>0</td>\n",
       "      <td>0</td>\n",
       "      <td>0</td>\n",
       "      <td>0</td>\n",
       "      <td>0</td>\n",
       "      <td>0</td>\n",
       "      <td>0</td>\n",
       "      <td>0</td>\n",
       "      <td>0</td>\n",
       "      <td>1</td>\n",
       "    </tr>\n",
       "    <tr>\n",
       "      <th>32559</th>\n",
       "      <td>22</td>\n",
       "      <td>201490</td>\n",
       "      <td>9</td>\n",
       "      <td>20</td>\n",
       "      <td>0</td>\n",
       "      <td>1</td>\n",
       "      <td>0</td>\n",
       "      <td>0</td>\n",
       "      <td>0</td>\n",
       "      <td>1</td>\n",
       "      <td>...</td>\n",
       "      <td>0</td>\n",
       "      <td>0</td>\n",
       "      <td>0</td>\n",
       "      <td>0</td>\n",
       "      <td>0</td>\n",
       "      <td>0</td>\n",
       "      <td>0</td>\n",
       "      <td>1</td>\n",
       "      <td>0</td>\n",
       "      <td>0</td>\n",
       "    </tr>\n",
       "    <tr>\n",
       "      <th>32560</th>\n",
       "      <td>52</td>\n",
       "      <td>287927</td>\n",
       "      <td>9</td>\n",
       "      <td>40</td>\n",
       "      <td>1</td>\n",
       "      <td>0</td>\n",
       "      <td>0</td>\n",
       "      <td>0</td>\n",
       "      <td>0</td>\n",
       "      <td>0</td>\n",
       "      <td>...</td>\n",
       "      <td>0</td>\n",
       "      <td>0</td>\n",
       "      <td>0</td>\n",
       "      <td>0</td>\n",
       "      <td>0</td>\n",
       "      <td>1</td>\n",
       "      <td>0</td>\n",
       "      <td>0</td>\n",
       "      <td>0</td>\n",
       "      <td>0</td>\n",
       "    </tr>\n",
       "  </tbody>\n",
       "</table>\n",
       "<p>32561 rows × 63 columns</p>\n",
       "</div>"
      ],
      "text/plain": [
       "       age  final_weight  education_num  hour_per_week  Female  Male  \\\n",
       "0       39         77516             13             40       0     1   \n",
       "1       50         83311             13             13       0     1   \n",
       "2       38        215646              9             40       0     1   \n",
       "3       53        234721              7             40       0     1   \n",
       "4       28        338409             13             40       1     0   \n",
       "...    ...           ...            ...            ...     ...   ...   \n",
       "32556   27        257302             12             38       1     0   \n",
       "32557   40        154374              9             40       0     1   \n",
       "32558   58        151910              9             40       1     0   \n",
       "32559   22        201490              9             20       0     1   \n",
       "32560   52        287927              9             40       1     0   \n",
       "\n",
       "       Federal-gov  Local-gov  Never-worked  Private  ...  Sales  \\\n",
       "0                0          0             0        0  ...      0   \n",
       "1                0          0             0        0  ...      0   \n",
       "2                0          0             0        1  ...      0   \n",
       "3                0          0             0        1  ...      0   \n",
       "4                0          0             0        1  ...      0   \n",
       "...            ...        ...           ...      ...  ...    ...   \n",
       "32556            0          0             0        1  ...      0   \n",
       "32557            0          0             0        1  ...      0   \n",
       "32558            0          0             0        1  ...      0   \n",
       "32559            0          0             0        1  ...      0   \n",
       "32560            0          0             0        0  ...      0   \n",
       "\n",
       "       Tech-support  Transport-moving  Divorced  Married_AF_spouse  \\\n",
       "0                 0                 0         0                  0   \n",
       "1                 0                 0         0                  0   \n",
       "2                 0                 0         1                  0   \n",
       "3                 0                 0         0                  0   \n",
       "4                 0                 0         0                  0   \n",
       "...             ...               ...       ...                ...   \n",
       "32556             1                 0         0                  0   \n",
       "32557             0                 0         0                  0   \n",
       "32558             0                 0         0                  0   \n",
       "32559             0                 0         0                  0   \n",
       "32560             0                 0         0                  0   \n",
       "\n",
       "       Married_civ_spouse  Married_spouse_absent  Never_married  Separated  \\\n",
       "0                       0                      0              1          0   \n",
       "1                       1                      0              0          0   \n",
       "2                       0                      0              0          0   \n",
       "3                       1                      0              0          0   \n",
       "4                       1                      0              0          0   \n",
       "...                   ...                    ...            ...        ...   \n",
       "32556                   1                      0              0          0   \n",
       "32557                   1                      0              0          0   \n",
       "32558                   0                      0              0          0   \n",
       "32559                   0                      0              1          0   \n",
       "32560                   1                      0              0          0   \n",
       "\n",
       "       Widowed  \n",
       "0            0  \n",
       "1            0  \n",
       "2            0  \n",
       "3            0  \n",
       "4            0  \n",
       "...        ...  \n",
       "32556        0  \n",
       "32557        0  \n",
       "32558        1  \n",
       "32559        0  \n",
       "32560        0  \n",
       "\n",
       "[32561 rows x 63 columns]"
      ]
     },
     "execution_count": 88,
     "metadata": {},
     "output_type": "execute_result"
    }
   ],
   "source": [
    "df_menu"
   ]
  },
  {
   "cell_type": "code",
   "execution_count": 89,
   "id": "quiet-insurance",
   "metadata": {},
   "outputs": [],
   "source": [
    "min_max_scaler = preprocessing.MinMaxScaler()"
   ]
  },
  {
   "cell_type": "code",
   "execution_count": 90,
   "id": "outdoor-winning",
   "metadata": {},
   "outputs": [],
   "source": [
    "x = df_menu\n",
    "x = min_max_scaler.fit_transform(x)"
   ]
  },
  {
   "cell_type": "code",
   "execution_count": 91,
   "id": "naked-belly",
   "metadata": {},
   "outputs": [],
   "source": [
    "y = df_target"
   ]
  },
  {
   "cell_type": "code",
   "execution_count": 92,
   "id": "adapted-frequency",
   "metadata": {},
   "outputs": [],
   "source": [
    "dfx = pd.DataFrame(x)"
   ]
  },
  {
   "cell_type": "code",
   "execution_count": 93,
   "id": "recorded-soldier",
   "metadata": {},
   "outputs": [],
   "source": [
    "x_train, x_test, y_train, y_test = train_test_split(x, y, test_size = 0.20)"
   ]
  },
  {
   "cell_type": "code",
   "execution_count": 94,
   "id": "yellow-means",
   "metadata": {},
   "outputs": [],
   "source": [
    "dfy_train = pd.DataFrame(y_train)"
   ]
  },
  {
   "cell_type": "code",
   "execution_count": 95,
   "id": "positive-participation",
   "metadata": {},
   "outputs": [],
   "source": [
    "from sklearn.datasets import make_classification\n",
    "from sklearn.model_selection import train_test_split\n",
    "from sklearn import svm"
   ]
  },
  {
   "cell_type": "code",
   "execution_count": 96,
   "id": "diagnostic-collar",
   "metadata": {},
   "outputs": [],
   "source": [
    "clf = svm.SVC()"
   ]
  },
  {
   "cell_type": "code",
   "execution_count": 97,
   "id": "described-major",
   "metadata": {},
   "outputs": [
    {
     "name": "stderr",
     "output_type": "stream",
     "text": [
      "/home/temporary/.local/lib/python3.6/site-packages/sklearn/utils/validation.py:63: DataConversionWarning: A column-vector y was passed when a 1d array was expected. Please change the shape of y to (n_samples, ), for example using ravel().\n",
      "  return f(*args, **kwargs)\n"
     ]
    },
    {
     "data": {
      "text/plain": [
       "SVC()"
      ]
     },
     "execution_count": 97,
     "metadata": {},
     "output_type": "execute_result"
    }
   ],
   "source": [
    "clf.fit(x_train, y_train)"
   ]
  },
  {
   "cell_type": "code",
   "execution_count": 98,
   "id": "inappropriate-auction",
   "metadata": {},
   "outputs": [],
   "source": [
    "y_pred = clf.predict(x_test)"
   ]
  },
  {
   "cell_type": "code",
   "execution_count": 99,
   "id": "mechanical-preparation",
   "metadata": {},
   "outputs": [],
   "source": [
    "from sklearn.metrics import accuracy_score\n",
    "from sklearn.metrics import classification_report, confusion_matrix"
   ]
  },
  {
   "cell_type": "code",
   "execution_count": 100,
   "id": "completed-stopping",
   "metadata": {},
   "outputs": [
    {
     "data": {
      "text/plain": [
       "0.8307999385843697"
      ]
     },
     "execution_count": 100,
     "metadata": {},
     "output_type": "execute_result"
    }
   ],
   "source": [
    "accuracy_score(y_test, y_pred)"
   ]
  },
  {
   "cell_type": "code",
   "execution_count": 101,
   "id": "administrative-helicopter",
   "metadata": {},
   "outputs": [],
   "source": [
    "#OtherModel"
   ]
  },
  {
   "cell_type": "code",
   "execution_count": 102,
   "id": "charged-bundle",
   "metadata": {},
   "outputs": [
    {
     "name": "stderr",
     "output_type": "stream",
     "text": [
      "/home/temporary/.local/lib/python3.6/site-packages/sklearn/utils/validation.py:63: DataConversionWarning: A column-vector y was passed when a 1d array was expected. Please change the shape of y to (n_samples, ), for example using ravel().\n",
      "  return f(*args, **kwargs)\n"
     ]
    },
    {
     "data": {
      "text/plain": [
       "SVC(kernel='sigmoid')"
      ]
     },
     "execution_count": 102,
     "metadata": {},
     "output_type": "execute_result"
    }
   ],
   "source": [
    "from sklearn.svm import SVC\n",
    "svclassifier = SVC(kernel='sigmoid')\n",
    "svclassifier.fit(x_train, y_train)"
   ]
  },
  {
   "cell_type": "code",
   "execution_count": 103,
   "id": "aggressive-integral",
   "metadata": {},
   "outputs": [
    {
     "name": "stdout",
     "output_type": "stream",
     "text": [
      "[[4236  751]\n",
      " [ 774  752]]\n",
      "              precision    recall  f1-score   support\n",
      "\n",
      "           0       0.85      0.85      0.85      4987\n",
      "           1       0.50      0.49      0.50      1526\n",
      "\n",
      "    accuracy                           0.77      6513\n",
      "   macro avg       0.67      0.67      0.67      6513\n",
      "weighted avg       0.76      0.77      0.77      6513\n",
      "\n"
     ]
    }
   ],
   "source": [
    "y_pred = svclassifier.predict(x_test)\n",
    "print(confusion_matrix(y_test,y_pred))\n",
    "print(classification_report(y_test,y_pred))"
   ]
  },
  {
   "cell_type": "code",
   "execution_count": 104,
   "id": "silver-depth",
   "metadata": {},
   "outputs": [
    {
     "data": {
      "text/plain": [
       "0.7658529095654845"
      ]
     },
     "execution_count": 104,
     "metadata": {},
     "output_type": "execute_result"
    }
   ],
   "source": [
    "accuracy_score(y_test, y_pred)"
   ]
  },
  {
   "cell_type": "code",
   "execution_count": null,
   "id": "directed-decision",
   "metadata": {},
   "outputs": [],
   "source": []
  },
  {
   "cell_type": "code",
   "execution_count": 105,
   "id": "viral-gossip",
   "metadata": {},
   "outputs": [],
   "source": [
    "# save the model to disk"
   ]
  },
  {
   "cell_type": "code",
   "execution_count": 110,
   "id": "unlimited-communication",
   "metadata": {},
   "outputs": [],
   "source": [
    "filename = 'census_class_model.sav'\n",
    "pickle.dump(clf, open(filename, 'wb'))"
   ]
  },
  {
   "cell_type": "code",
   "execution_count": null,
   "id": "checked-invalid",
   "metadata": {},
   "outputs": [],
   "source": []
  }
 ],
 "metadata": {
  "kernelspec": {
   "display_name": "Python 3",
   "language": "python",
   "name": "python3"
  },
  "language_info": {
   "codemirror_mode": {
    "name": "ipython",
    "version": 3
   },
   "file_extension": ".py",
   "mimetype": "text/x-python",
   "name": "python",
   "nbconvert_exporter": "python",
   "pygments_lexer": "ipython3",
   "version": "3.6.9"
  }
 },
 "nbformat": 4,
 "nbformat_minor": 5
}
